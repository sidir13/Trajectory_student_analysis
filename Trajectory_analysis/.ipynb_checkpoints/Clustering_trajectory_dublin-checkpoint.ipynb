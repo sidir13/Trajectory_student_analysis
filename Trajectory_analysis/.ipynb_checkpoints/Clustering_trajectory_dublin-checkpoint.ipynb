{
 "cells": [
  {
   "cell_type": "code",
   "execution_count": 699,
   "id": "2e5b8c75",
   "metadata": {},
   "outputs": [],
   "source": [
    "import pickle\n",
    "from datetime import datetime, timedelta\n",
    "import json\n",
    "import random\n",
    "import time\n",
    "\n",
    "import numpy as np\n",
    "import pandas as pd\n",
    "import matplotlib.pyplot as plt\n",
    "from tqdm.notebook import tqdm\n",
    "\n",
    "from sklearn.metrics import silhouette_score, calinski_harabasz_score, davies_bouldin_score, adjusted_rand_score\n",
    "from sklearn.decomposition import PCA\n",
    "\n",
    "from tslearn.metrics import cdist_dtw\n",
    "from tslearn.clustering import TimeSeriesKMeans\n",
    "\n",
    "from manage import jsonAttempts2data, jsonExercises2data\n",
    "from code2aes import Code2Aes\n",
    "from aes2vec import learnModel, inferVectors, read_corpus, data2cor\n"
   ]
  },
  {
   "cell_type": "markdown",
   "id": "fec154be",
   "metadata": {},
   "source": [
    "# Importation of data"
   ]
  },
  {
   "cell_type": "code",
   "execution_count": 700,
   "id": "d13b7978-5fe6-4ece-95d4-f875661bb0cc",
   "metadata": {},
   "outputs": [],
   "source": [
    "# Import the attemps' embedding and data\n",
    "with open(\"Datasets/Embedding/embedding_dublin.json\", \"r\") as f:\n",
    "    embedding_data = json.load(f)\n",
    "\n",
    "with open(\"Datasets/Embedding/embedding_correction_dublin.json\", \"r\") as f:\n",
    "    embedding_data_correction = json.load(f)\n",
    "\n",
    "with open(\"Datasets/Raw/DBExercises.json\", \"r\") as f:\n",
    "    DBExercises = json.load(f)\n",
    "\n",
    "chemin = \"Datasets/Raw/Dublin_42487.json\"\n",
    "with open(chemin, 'r') as fichier:\n",
    "    dublin_data = json.load(fichier)"
   ]
  },
  {
   "cell_type": "code",
   "execution_count": 701,
   "id": "b9aa082d",
   "metadata": {},
   "outputs": [],
   "source": [
    "# Dictionary that maps the encoded exercise to its real name\n",
    "exercice_name_dict = {}\n",
    "list_exo = list(DBExercises.values())\n",
    "for exo in list_exo:\n",
    "    # key : encoded name, value : real name of exercise\n",
    "    exercice_name_dict[exo[\"exo_name\"]] = exo[\"funcname\"] \n",
    "list_exo = list(set(exercice_name_dict.values()))"
   ]
  },
  {
   "cell_type": "code",
   "execution_count": 702,
   "id": "41b8de82-0273-4f25-b832-e6f61a7c58d6",
   "metadata": {},
   "outputs": [],
   "source": [
    "# We take a percentage of the total data\n",
    "percentage = 0.1\n",
    "n = int(len(dublin_data) * percentage)\n",
    "random_index = random.sample(range(len(dublin_data)), n)\n",
    "dublin_data_sampled = [dublin_data[i] for i in random_index]\n",
    "embedding_data_sampled = [embedding_data[i] for i in random_index]"
   ]
  },
  {
   "cell_type": "code",
   "execution_count": 703,
   "id": "13fa7785-e52a-4cfd-bc4b-b76bcea70354",
   "metadata": {},
   "outputs": [
    {
     "name": "stdout",
     "output_type": "stream",
     "text": [
      "We've got 4248 attempts\n"
     ]
    }
   ],
   "source": [
    "print(f\"We've got {len(embedding_data_sampled)} attempts\")"
   ]
  },
  {
   "cell_type": "code",
   "execution_count": 704,
   "id": "b953b285-26d0-45a5-aae8-2ca071abd5c2",
   "metadata": {},
   "outputs": [],
   "source": [
    "# Count the number of attempts per exercise\n",
    "repartition_exercise = {}\n",
    "for attempts in dublin_data_sampled:\n",
    "    if attempts[\"exercise_name\"] not in repartition_exercise :\n",
    "       repartition_exercise[attempts[\"exercise_name\"]] = 1\n",
    "    else:\n",
    "        repartition_exercise[attempts[\"exercise_name\"]] += 1"
   ]
  },
  {
   "cell_type": "code",
   "execution_count": 705,
   "id": "579dc4d5-59ae-47c6-842f-f31f3672351c",
   "metadata": {},
   "outputs": [],
   "source": [
    "# Delete exercises with fewer than 2 attempts (not enough data for clustering)\n",
    "under_2_attempts = []\n",
    "for exercise in repartition_exercise:\n",
    "    if repartition_exercise[exercise] <= 2:\n",
    "        under_2_attempts.append(exercise)\n",
    "\n",
    "for i, attempts in enumerate(dublin_data_sampled):\n",
    "    if attempts[\"exercise_name\"] in under_2_attempts:\n",
    "        dublin_data_sampled.pop(i)\n",
    "        embedding_data_sampled.pop(i)"
   ]
  },
  {
   "cell_type": "code",
   "execution_count": 706,
   "id": "38c6d968-15a0-4941-8da0-391013f98b98",
   "metadata": {},
   "outputs": [],
   "source": [
    "# Create a list with the names of all exercises\n",
    "all_exercise = list(DBExercises.keys())"
   ]
  },
  {
   "cell_type": "code",
   "execution_count": 707,
   "id": "cf690d33-8ae0-48cd-a683-7c987db7aa91",
   "metadata": {},
   "outputs": [],
   "source": [
    "# Delete exercises with fewer than 2 attempts\n",
    "for exercise in all_exercise:\n",
    "    if exercise in under_2_attempts:\n",
    "        del DBExercises[exercise]"
   ]
  },
  {
   "cell_type": "markdown",
   "id": "48a2b937",
   "metadata": {},
   "source": [
    "# Construction of trajectory"
   ]
  },
  {
   "cell_type": "code",
   "execution_count": 708,
   "id": "29f94a30",
   "metadata": {},
   "outputs": [],
   "source": [
    "def trajectory_construction_embedding(data, embedding_data, encoded = False, encoder_dictionnary = exercice_name_dict):\n",
    "    \"\"\" \n",
    "    Create a dictionary containing all trajectories for each exercise.\n",
    "    The other dictionary has the same structure, but instead of embeddings, it contains the timestamps of the attempts\n",
    "\n",
    "    - data: A dictionary containing all attempts and their characteristics.\n",
    "    - embedding_data: A list of embeddings for each attempt, in the same order as in the data.\n",
    "\n",
    "    \"\"\"\n",
    "    \n",
    "    # Initialisation of the dictionnaries\n",
    "    trajec_emb = {}\n",
    "    trajec_emb_date = {}\n",
    "    # For every attemp,\n",
    "    for i, attemps in enumerate(data):\n",
    "        # Check if the exercise name is encoded in our data\n",
    "        if encoded:\n",
    "            exo_encoded = attemps[\"exercise_name\"]\n",
    "            exercise = exercice_name_dict[exo_encoded]\n",
    "        else:\n",
    "            exercise = attemps[\"exercise_name\"]\n",
    "        student = attemps[\"user\"]\n",
    "        date = attemps[\"date\"]\n",
    "        if exercise not in trajec_emb:\n",
    "            trajec_emb[exercise] = {}\n",
    "            trajec_emb_date[exercise] = {}\n",
    "        if student not in trajec_emb[exercise]:\n",
    "            trajec_emb[exercise][student] = []\n",
    "            trajec_emb_date[exercise][student] = []\n",
    "        # Creat the trajectory\n",
    "        trajec_emb[exercise][student].append(embedding_data[i])\n",
    "        trajec_emb_date[exercise][student].append(date)\n",
    "    return trajec_emb, trajec_emb_date"
   ]
  },
  {
   "cell_type": "code",
   "execution_count": 709,
   "id": "83e453f4",
   "metadata": {},
   "outputs": [],
   "source": [
    "def diff_date_(trajec_date):\n",
    "    \"\"\"\n",
    "    A dictionary with the same structure as our data trajectories.\n",
    "    It contains the time delta between the attempts in the trajectories and a reference date.\n",
    "\n",
    "    - trajec_emb_date: A dictionary containing the timestamps of the attempts.\n",
    "\n",
    "    \"\"\"\n",
    "    \n",
    "    # Choose a random reference date. The only condition is that it must be earlier than every other timestamp.\n",
    "    reference_date = pd.to_datetime(\"2018-01-01\")\n",
    "    # Initialisation of the dictionnary\n",
    "    diff_dates = {}\n",
    "    for exo in trajec_date:\n",
    "        if exo not in diff_dates:\n",
    "            diff_dates[exo] = {}\n",
    "        for student in trajec_date[exo]:\n",
    "            list_date = trajec_date[exo][student]\n",
    "            list_diff_date = []\n",
    "            # Calcule the timedelta between the reference date and the timestamp of the attemp\n",
    "            for date in list_date:\n",
    "                date = pd.to_datetime(date)\n",
    "                diff_date = date - reference_date\n",
    "                list_diff_date.append(diff_date)\n",
    "            diff_dates[exo][student] = list_diff_date\n",
    "    return diff_dates"
   ]
  },
  {
   "cell_type": "code",
   "execution_count": 710,
   "id": "7f7a209f",
   "metadata": {},
   "outputs": [],
   "source": [
    "def repartition_date_(diff_date):\n",
    "    \"\"\"\n",
    "    Creat a dictionary that, for each exercise, lists all the adjusted timestamps for that exercise. \n",
    "      To calculate these adjusted timestamps, we subtract a random date from the attempt timestamps to ensure positive values, \n",
    "      then convert the results to days.\n",
    "    - diff_date: A dictionary that provides the timestamps of every attempt for each trajectory.\n",
    "    \n",
    "    \"\"\"\n",
    "    # Initialisation of the dictionnary\n",
    "    repartition_date = {}\n",
    "    for exo in diff_date:\n",
    "        repartition_date_list = []\n",
    "        for list_date in diff_date[exo].values():\n",
    "            repartition_date_list += list_date\n",
    "        repartition_date[exo] = repartition_date_list\n",
    "    return repartition_date"
   ]
  },
  {
   "cell_type": "code",
   "execution_count": 711,
   "id": "d0426cf2",
   "metadata": {},
   "outputs": [],
   "source": [
    "def find_closest_trajectory(date, list_date, trajec):\n",
    "    \"\"\"\n",
    "    - date: The target date for which we want to find the closest date to add the corresponding trajectory.\n",
    "    - list_date: A list of dates for all trajectories.\n",
    "    - trajec: A list of all trajectories.\n",
    "    - return: The closest timestamp to the specified date.\n",
    "    \"\"\"\n",
    "    closest_date = None\n",
    "    closest_trajectory = None\n",
    "    min_timedelta = timedelta.max\n",
    "    date = date.total_seconds() / (24 * 3600)\n",
    "    \n",
    "    for i, d in enumerate(list_date):\n",
    "        d = d.total_seconds() / (24 * 3600)\n",
    "        delta = d - date\n",
    "        delta = pd.to_timedelta(delta, unit='D')\n",
    "        if delta >= timedelta(0) and delta < min_timedelta:\n",
    "            min_timedelta = delta\n",
    "            closest_date = d\n",
    "            closest_trajectory = trajec[i]\n",
    "    # When there is no more trajectory older than date\n",
    "    if type(closest_trajectory) == type(None):\n",
    "        closest_trajectory = trajec[-1]\n",
    "    return closest_trajectory"
   ]
  },
  {
   "cell_type": "code",
   "execution_count": 712,
   "id": "8ade8def",
   "metadata": {},
   "outputs": [],
   "source": [
    "def padd_trajectories(diff_date, repartition_date, trajec):\n",
    "    \"\"\"\n",
    "    Pad the trajectories to prepare them for input into a clustering algorithm\n",
    "    \n",
    "    - diff_date: A dictionary that provides the timestamps of every attempt for each trajectory.\n",
    "    - repartition_date: A dictionary that, for each exercise, lists all the adjusted timestamps for that exercise. \n",
    "      To calculate these adjusted timestamps, we subtract a random date from the attempt timestamps to ensure positive values, \n",
    "      then convert the results to days.\n",
    "    - trajec : A dictionary containing all trajectories, organized by exercise.\n",
    "    - Return : dictionnary of padded trajectory\n",
    "\n",
    "    \"\"\"\n",
    "\n",
    "    # Initialisation of the dictionnary\n",
    "    padded_trajec = {}\n",
    "\n",
    "    for exo in diff_date:\n",
    "        list_repartition_date = repartition_date[exo]\n",
    "        padded_trajec[exo] = {}\n",
    "\n",
    "        for student in diff_date[exo]:\n",
    "            list_date = diff_date[exo][student]\n",
    "            list_trajec = trajec[exo][student]\n",
    "            list_padded = []\n",
    "            # k-th attemps of the trajectory\n",
    "            k = 0\n",
    "            for rep_date in list_repartition_date:\n",
    "                if k < len(list_date) and rep_date >= list_date[k]: #.total_seconds() / (24 * 3600):\n",
    "                    list_padded.append(list_trajec[k])\n",
    "                    k += 1\n",
    "                else:\n",
    "                    # closest_trajectory depends on the type of data in the trajectory:\n",
    "                    # - If the trajectory contains embeddings, closest_trajectory is an embedding.\n",
    "                    # - If it involves similarity, closest_trajectory is a similarity measure.\n",
    "                    closest_trajectory = find_closest_trajectory(rep_date, list_date, list_trajec)\n",
    "                    list_padded.append(closest_trajectory)\n",
    "\n",
    "            padded_trajec[exo][student] = list_padded\n",
    "    return padded_trajec"
   ]
  },
  {
   "cell_type": "markdown",
   "id": "9a6072d5",
   "metadata": {},
   "source": [
    "# Clustering on embedding"
   ]
  },
  {
   "cell_type": "code",
   "execution_count": 713,
   "id": "0eec7c83",
   "metadata": {},
   "outputs": [],
   "source": [
    "def calculate_silhouette_scores_matrice(data):\n",
    "    \"\"\"\n",
    "    - data: The input data for clustering, consisting of all trajectories.\n",
    "    - Return: The optimal number of clusters that maximizes the silhouette score.\n",
    "    \"\"\"\n",
    "    \n",
    "    # Compute the DTW distance matrix once\n",
    "    dists = cdist_dtw(data)\n",
    "    \n",
    "    silhouette_scores = []\n",
    "    max_clus = len(data) - 1\n",
    "    clus_ = min(max_clus, 12)\n",
    "    for n_clusters in tqdm(range(2, clus_)):\n",
    "        model = TimeSeriesKMeans(n_clusters=n_clusters, metric=\"dtw\", max_iter=10, random_state=0)\n",
    "        labels = model.fit_predict(data)\n",
    "        \n",
    "        # Use the DTW distance matrix with silhouette_score\n",
    "        silhouette_avg = silhouette_score(dists, labels, metric=\"precomputed\")\n",
    "        silhouette_scores.append(silhouette_avg)\n",
    "        \n",
    "    if silhouette_scores == []:\n",
    "        k = \"empty\"\n",
    "    else:\n",
    "        # we add a + 2 since we have at least k = 2\n",
    "        k = np.argmax(silhouette_scores) + 2\n",
    "        return k\n"
   ]
  },
  {
   "cell_type": "code",
   "execution_count": 714,
   "id": "3e26e737",
   "metadata": {},
   "outputs": [],
   "source": [
    "def get_labels(trajec):\n",
    "    \"\"\"\n",
    "    Use TimeSeriesKMeans clustering with trajectories as input to obtain corresponding labels\n",
    "    labels_: A dictionary where the keys are exercises and the values are the trajectories for each exercise\n",
    "    Return : Dictionnary where the keys are exercises and the values are an array of labels for each trajectory\n",
    "\n",
    "    \"\"\"\n",
    "    # Stock the labels data here\n",
    "    labels_ = {}\n",
    "    for exo in tqdm(trajec):\n",
    "        data_exo = np.array(list(trajec[exo].values()))\n",
    "        # calculate_silhouette_scores_matrice use silouhette score with pre-computed matrice distance\n",
    "        optimal_n_clusters =  calculate_silhouette_scores_matrice(data_exo)\n",
    "        # With too few trajectories, it's impossible to determine an optimal number of clusters\n",
    "        if optimal_n_clusters is not None and data_exo.shape[0] >= optimal_n_clusters:\n",
    "            model_emb = TimeSeriesKMeans(n_clusters=optimal_n_clusters, metric=\"dtw\", max_iter=10)\n",
    "            labels = model_emb.fit_predict(data_exo)\n",
    "            labels_[exo] = labels\n",
    "    return labels_"
   ]
  },
  {
   "cell_type": "code",
   "execution_count": 715,
   "id": "453005f7",
   "metadata": {},
   "outputs": [],
   "source": [
    "def compute_cluster_emb(data, embedding_data):\n",
    "    trajec_emb, trajec_emb_date = trajectory_construction_embedding(data, embedding_data)\n",
    "    diff_date = diff_date_(trajec_emb_date)\n",
    "    repartition_date = repartition_date_(diff_date)\n",
    "    padded_trajectory = padd_trajectories(diff_date, repartition_date, trajec_emb)\n",
    "    labels_emb = get_labels(padded_trajectory)\n",
    "    return labels_emb"
   ]
  },
  {
   "cell_type": "code",
   "execution_count": 716,
   "id": "58dd5655-050d-4d84-9fc1-7aa54c4af761",
   "metadata": {},
   "outputs": [],
   "source": [
    "padded_trajectory = compute_cluster_emb_test(dublin_data_sampled, embedding_data_sampled)"
   ]
  },
  {
   "cell_type": "code",
   "execution_count": 743,
   "id": "6953d1ef",
   "metadata": {},
   "outputs": [
    {
     "data": {
      "application/vnd.jupyter.widget-view+json": {
       "model_id": "20bbe5bbb2f44642894150bf13e59a48",
       "version_major": 2,
       "version_minor": 0
      },
      "text/plain": [
       "  0%|          | 0/92 [00:00<?, ?it/s]"
      ]
     },
     "metadata": {},
     "output_type": "display_data"
    },
    {
     "data": {
      "application/vnd.jupyter.widget-view+json": {
       "model_id": "56202ea0bc214361a154b13983e0da9d",
       "version_major": 2,
       "version_minor": 0
      },
      "text/plain": [
       "  0%|          | 0/10 [00:00<?, ?it/s]"
      ]
     },
     "metadata": {},
     "output_type": "display_data"
    },
    {
     "data": {
      "application/vnd.jupyter.widget-view+json": {
       "model_id": "76c45bee7d6b4e44bce85d7d13ffd626",
       "version_major": 2,
       "version_minor": 0
      },
      "text/plain": [
       "  0%|          | 0/10 [00:00<?, ?it/s]"
      ]
     },
     "metadata": {},
     "output_type": "display_data"
    },
    {
     "data": {
      "application/vnd.jupyter.widget-view+json": {
       "model_id": "d3387102a1a44f1d823d6f8bdde30ae4",
       "version_major": 2,
       "version_minor": 0
      },
      "text/plain": [
       "  0%|          | 0/10 [00:00<?, ?it/s]"
      ]
     },
     "metadata": {},
     "output_type": "display_data"
    },
    {
     "data": {
      "application/vnd.jupyter.widget-view+json": {
       "model_id": "ddf5d8143cae45978cdc7ac68bf1a9c1",
       "version_major": 2,
       "version_minor": 0
      },
      "text/plain": [
       "  0%|          | 0/10 [00:00<?, ?it/s]"
      ]
     },
     "metadata": {},
     "output_type": "display_data"
    },
    {
     "data": {
      "application/vnd.jupyter.widget-view+json": {
       "model_id": "4986c9b4a163473d8dae90f889ae81ff",
       "version_major": 2,
       "version_minor": 0
      },
      "text/plain": [
       "  0%|          | 0/10 [00:00<?, ?it/s]"
      ]
     },
     "metadata": {},
     "output_type": "display_data"
    },
    {
     "data": {
      "application/vnd.jupyter.widget-view+json": {
       "model_id": "0092deb77b6448f9be3ca58ef80d7ecd",
       "version_major": 2,
       "version_minor": 0
      },
      "text/plain": [
       "  0%|          | 0/10 [00:00<?, ?it/s]"
      ]
     },
     "metadata": {},
     "output_type": "display_data"
    },
    {
     "data": {
      "application/vnd.jupyter.widget-view+json": {
       "model_id": "f16ff303a763494f8122910051308136",
       "version_major": 2,
       "version_minor": 0
      },
      "text/plain": [
       "  0%|          | 0/10 [00:00<?, ?it/s]"
      ]
     },
     "metadata": {},
     "output_type": "display_data"
    },
    {
     "data": {
      "application/vnd.jupyter.widget-view+json": {
       "model_id": "1dc5253b2e234d068e8b90d89d89e0cc",
       "version_major": 2,
       "version_minor": 0
      },
      "text/plain": [
       "  0%|          | 0/10 [00:00<?, ?it/s]"
      ]
     },
     "metadata": {},
     "output_type": "display_data"
    },
    {
     "data": {
      "application/vnd.jupyter.widget-view+json": {
       "model_id": "c1e535083cba4a42b5c68a2ce8198030",
       "version_major": 2,
       "version_minor": 0
      },
      "text/plain": [
       "  0%|          | 0/10 [00:00<?, ?it/s]"
      ]
     },
     "metadata": {},
     "output_type": "display_data"
    },
    {
     "data": {
      "application/vnd.jupyter.widget-view+json": {
       "model_id": "8e5165e7d5cd4cc0890aff6de512ee53",
       "version_major": 2,
       "version_minor": 0
      },
      "text/plain": [
       "  0%|          | 0/10 [00:00<?, ?it/s]"
      ]
     },
     "metadata": {},
     "output_type": "display_data"
    },
    {
     "data": {
      "application/vnd.jupyter.widget-view+json": {
       "model_id": "8324a01df7724990811d7cefe22fcf46",
       "version_major": 2,
       "version_minor": 0
      },
      "text/plain": [
       "  0%|          | 0/10 [00:00<?, ?it/s]"
      ]
     },
     "metadata": {},
     "output_type": "display_data"
    },
    {
     "data": {
      "application/vnd.jupyter.widget-view+json": {
       "model_id": "d06dd1c4589846efbe7f803c49ce5a81",
       "version_major": 2,
       "version_minor": 0
      },
      "text/plain": [
       "  0%|          | 0/10 [00:00<?, ?it/s]"
      ]
     },
     "metadata": {},
     "output_type": "display_data"
    },
    {
     "data": {
      "application/vnd.jupyter.widget-view+json": {
       "model_id": "81184bc674814e95b4668fd562c2746b",
       "version_major": 2,
       "version_minor": 0
      },
      "text/plain": [
       "  0%|          | 0/10 [00:00<?, ?it/s]"
      ]
     },
     "metadata": {},
     "output_type": "display_data"
    },
    {
     "data": {
      "application/vnd.jupyter.widget-view+json": {
       "model_id": "194b75f434f74ab9b68d13dfa3a171d9",
       "version_major": 2,
       "version_minor": 0
      },
      "text/plain": [
       "  0%|          | 0/10 [00:00<?, ?it/s]"
      ]
     },
     "metadata": {},
     "output_type": "display_data"
    },
    {
     "data": {
      "application/vnd.jupyter.widget-view+json": {
       "model_id": "d7dd5b6986274218bb3799567863be14",
       "version_major": 2,
       "version_minor": 0
      },
      "text/plain": [
       "  0%|          | 0/10 [00:00<?, ?it/s]"
      ]
     },
     "metadata": {},
     "output_type": "display_data"
    },
    {
     "data": {
      "application/vnd.jupyter.widget-view+json": {
       "model_id": "16047419ea23441b87826ea77088009a",
       "version_major": 2,
       "version_minor": 0
      },
      "text/plain": [
       "  0%|          | 0/10 [00:00<?, ?it/s]"
      ]
     },
     "metadata": {},
     "output_type": "display_data"
    },
    {
     "data": {
      "application/vnd.jupyter.widget-view+json": {
       "model_id": "06513bf224284cf8ba1332499b84cd67",
       "version_major": 2,
       "version_minor": 0
      },
      "text/plain": [
       "  0%|          | 0/10 [00:00<?, ?it/s]"
      ]
     },
     "metadata": {},
     "output_type": "display_data"
    },
    {
     "data": {
      "application/vnd.jupyter.widget-view+json": {
       "model_id": "c63acaf49c144f1f93a7531492066fa1",
       "version_major": 2,
       "version_minor": 0
      },
      "text/plain": [
       "  0%|          | 0/10 [00:00<?, ?it/s]"
      ]
     },
     "metadata": {},
     "output_type": "display_data"
    },
    {
     "data": {
      "application/vnd.jupyter.widget-view+json": {
       "model_id": "f94e77957a214df2ac82ae63e2a70eae",
       "version_major": 2,
       "version_minor": 0
      },
      "text/plain": [
       "  0%|          | 0/10 [00:00<?, ?it/s]"
      ]
     },
     "metadata": {},
     "output_type": "display_data"
    },
    {
     "data": {
      "application/vnd.jupyter.widget-view+json": {
       "model_id": "4144c749c9fc44c8b461c2d76113924c",
       "version_major": 2,
       "version_minor": 0
      },
      "text/plain": [
       "  0%|          | 0/10 [00:00<?, ?it/s]"
      ]
     },
     "metadata": {},
     "output_type": "display_data"
    },
    {
     "data": {
      "application/vnd.jupyter.widget-view+json": {
       "model_id": "4874eafb9ad04130ac7114e3fd6c177e",
       "version_major": 2,
       "version_minor": 0
      },
      "text/plain": [
       "  0%|          | 0/10 [00:00<?, ?it/s]"
      ]
     },
     "metadata": {},
     "output_type": "display_data"
    },
    {
     "data": {
      "application/vnd.jupyter.widget-view+json": {
       "model_id": "10e89a135b974bd2b1d9df51e8d13fc3",
       "version_major": 2,
       "version_minor": 0
      },
      "text/plain": [
       "  0%|          | 0/10 [00:00<?, ?it/s]"
      ]
     },
     "metadata": {},
     "output_type": "display_data"
    },
    {
     "data": {
      "application/vnd.jupyter.widget-view+json": {
       "model_id": "6c2e728a946d4481947574bfcdc2f74e",
       "version_major": 2,
       "version_minor": 0
      },
      "text/plain": [
       "  0%|          | 0/10 [00:00<?, ?it/s]"
      ]
     },
     "metadata": {},
     "output_type": "display_data"
    },
    {
     "data": {
      "application/vnd.jupyter.widget-view+json": {
       "model_id": "c53ef24ee0d745e78dd36687c0b94992",
       "version_major": 2,
       "version_minor": 0
      },
      "text/plain": [
       "  0%|          | 0/10 [00:00<?, ?it/s]"
      ]
     },
     "metadata": {},
     "output_type": "display_data"
    },
    {
     "data": {
      "application/vnd.jupyter.widget-view+json": {
       "model_id": "4ea8ab2c52c24fc2a29c33dbc9f26293",
       "version_major": 2,
       "version_minor": 0
      },
      "text/plain": [
       "  0%|          | 0/10 [00:00<?, ?it/s]"
      ]
     },
     "metadata": {},
     "output_type": "display_data"
    },
    {
     "data": {
      "application/vnd.jupyter.widget-view+json": {
       "model_id": "e293fd59a7af42a7b5fcafc68defd9e3",
       "version_major": 2,
       "version_minor": 0
      },
      "text/plain": [
       "  0%|          | 0/10 [00:00<?, ?it/s]"
      ]
     },
     "metadata": {},
     "output_type": "display_data"
    },
    {
     "data": {
      "application/vnd.jupyter.widget-view+json": {
       "model_id": "70a3cbafdbbd4ee6a34616ed6a774383",
       "version_major": 2,
       "version_minor": 0
      },
      "text/plain": [
       "  0%|          | 0/10 [00:00<?, ?it/s]"
      ]
     },
     "metadata": {},
     "output_type": "display_data"
    },
    {
     "data": {
      "application/vnd.jupyter.widget-view+json": {
       "model_id": "dba7dce5eaea46cb9134b64ca14c4529",
       "version_major": 2,
       "version_minor": 0
      },
      "text/plain": [
       "  0%|          | 0/10 [00:00<?, ?it/s]"
      ]
     },
     "metadata": {},
     "output_type": "display_data"
    },
    {
     "data": {
      "application/vnd.jupyter.widget-view+json": {
       "model_id": "b3fe332324de47e5b7b2da4608424f0c",
       "version_major": 2,
       "version_minor": 0
      },
      "text/plain": [
       "  0%|          | 0/10 [00:00<?, ?it/s]"
      ]
     },
     "metadata": {},
     "output_type": "display_data"
    },
    {
     "data": {
      "application/vnd.jupyter.widget-view+json": {
       "model_id": "e555d34284d54fa39dc16fc7dbddb5c6",
       "version_major": 2,
       "version_minor": 0
      },
      "text/plain": [
       "  0%|          | 0/10 [00:00<?, ?it/s]"
      ]
     },
     "metadata": {},
     "output_type": "display_data"
    },
    {
     "data": {
      "application/vnd.jupyter.widget-view+json": {
       "model_id": "fb48d9cdd8bb40d8bc5b4ceb54c53162",
       "version_major": 2,
       "version_minor": 0
      },
      "text/plain": [
       "  0%|          | 0/10 [00:00<?, ?it/s]"
      ]
     },
     "metadata": {},
     "output_type": "display_data"
    },
    {
     "data": {
      "application/vnd.jupyter.widget-view+json": {
       "model_id": "172cf027e44340c8910c87c86782950f",
       "version_major": 2,
       "version_minor": 0
      },
      "text/plain": [
       "  0%|          | 0/10 [00:00<?, ?it/s]"
      ]
     },
     "metadata": {},
     "output_type": "display_data"
    },
    {
     "data": {
      "application/vnd.jupyter.widget-view+json": {
       "model_id": "a5ff2409a7b1475a903f0828c6539c0b",
       "version_major": 2,
       "version_minor": 0
      },
      "text/plain": [
       "  0%|          | 0/10 [00:00<?, ?it/s]"
      ]
     },
     "metadata": {},
     "output_type": "display_data"
    },
    {
     "data": {
      "application/vnd.jupyter.widget-view+json": {
       "model_id": "f9f2e5bffd5c498ebefbcf815015a60f",
       "version_major": 2,
       "version_minor": 0
      },
      "text/plain": [
       "  0%|          | 0/10 [00:00<?, ?it/s]"
      ]
     },
     "metadata": {},
     "output_type": "display_data"
    },
    {
     "data": {
      "application/vnd.jupyter.widget-view+json": {
       "model_id": "5aceab51f2ff4505acf2943d4fdd346b",
       "version_major": 2,
       "version_minor": 0
      },
      "text/plain": [
       "  0%|          | 0/10 [00:00<?, ?it/s]"
      ]
     },
     "metadata": {},
     "output_type": "display_data"
    },
    {
     "data": {
      "application/vnd.jupyter.widget-view+json": {
       "model_id": "b82c81e240dd4a8e8918d088ed41796f",
       "version_major": 2,
       "version_minor": 0
      },
      "text/plain": [
       "  0%|          | 0/10 [00:00<?, ?it/s]"
      ]
     },
     "metadata": {},
     "output_type": "display_data"
    },
    {
     "data": {
      "application/vnd.jupyter.widget-view+json": {
       "model_id": "24502bfedb634c6ab7f11ca12f325c28",
       "version_major": 2,
       "version_minor": 0
      },
      "text/plain": [
       "  0%|          | 0/10 [00:00<?, ?it/s]"
      ]
     },
     "metadata": {},
     "output_type": "display_data"
    },
    {
     "data": {
      "application/vnd.jupyter.widget-view+json": {
       "model_id": "f2376fd67e27435cb8fec8239e76ada6",
       "version_major": 2,
       "version_minor": 0
      },
      "text/plain": [
       "  0%|          | 0/10 [00:00<?, ?it/s]"
      ]
     },
     "metadata": {},
     "output_type": "display_data"
    },
    {
     "data": {
      "application/vnd.jupyter.widget-view+json": {
       "model_id": "d3e2a3a8e4c144e6b3e93ae290e98112",
       "version_major": 2,
       "version_minor": 0
      },
      "text/plain": [
       "  0%|          | 0/10 [00:00<?, ?it/s]"
      ]
     },
     "metadata": {},
     "output_type": "display_data"
    },
    {
     "data": {
      "application/vnd.jupyter.widget-view+json": {
       "model_id": "23456ef2e3c5422aa44e17d820290526",
       "version_major": 2,
       "version_minor": 0
      },
      "text/plain": [
       "  0%|          | 0/10 [00:00<?, ?it/s]"
      ]
     },
     "metadata": {},
     "output_type": "display_data"
    },
    {
     "data": {
      "application/vnd.jupyter.widget-view+json": {
       "model_id": "4d09ae5104574446b1b43c3bb039b0a2",
       "version_major": 2,
       "version_minor": 0
      },
      "text/plain": [
       "  0%|          | 0/10 [00:00<?, ?it/s]"
      ]
     },
     "metadata": {},
     "output_type": "display_data"
    },
    {
     "data": {
      "application/vnd.jupyter.widget-view+json": {
       "model_id": "80fbbae2e7a84f9ba453583ebd51f3a0",
       "version_major": 2,
       "version_minor": 0
      },
      "text/plain": [
       "  0%|          | 0/10 [00:00<?, ?it/s]"
      ]
     },
     "metadata": {},
     "output_type": "display_data"
    },
    {
     "data": {
      "application/vnd.jupyter.widget-view+json": {
       "model_id": "aa3ab6608b9541a5b1bc940c990637c8",
       "version_major": 2,
       "version_minor": 0
      },
      "text/plain": [
       "  0%|          | 0/10 [00:00<?, ?it/s]"
      ]
     },
     "metadata": {},
     "output_type": "display_data"
    },
    {
     "data": {
      "application/vnd.jupyter.widget-view+json": {
       "model_id": "5cd3b271c88a404a8b01b999a01868aa",
       "version_major": 2,
       "version_minor": 0
      },
      "text/plain": [
       "  0%|          | 0/10 [00:00<?, ?it/s]"
      ]
     },
     "metadata": {},
     "output_type": "display_data"
    },
    {
     "data": {
      "application/vnd.jupyter.widget-view+json": {
       "model_id": "01512498c623477e8d29b3aa317eb276",
       "version_major": 2,
       "version_minor": 0
      },
      "text/plain": [
       "  0%|          | 0/10 [00:00<?, ?it/s]"
      ]
     },
     "metadata": {},
     "output_type": "display_data"
    },
    {
     "data": {
      "application/vnd.jupyter.widget-view+json": {
       "model_id": "4cefec23b5564a9e85ae9d9294307702",
       "version_major": 2,
       "version_minor": 0
      },
      "text/plain": [
       "  0%|          | 0/10 [00:00<?, ?it/s]"
      ]
     },
     "metadata": {},
     "output_type": "display_data"
    },
    {
     "data": {
      "application/vnd.jupyter.widget-view+json": {
       "model_id": "18a00e41802741b0b201ce6f02578186",
       "version_major": 2,
       "version_minor": 0
      },
      "text/plain": [
       "  0%|          | 0/10 [00:00<?, ?it/s]"
      ]
     },
     "metadata": {},
     "output_type": "display_data"
    },
    {
     "data": {
      "application/vnd.jupyter.widget-view+json": {
       "model_id": "5aa4fc15e9cf4eb5999425296ae53f5a",
       "version_major": 2,
       "version_minor": 0
      },
      "text/plain": [
       "  0%|          | 0/10 [00:00<?, ?it/s]"
      ]
     },
     "metadata": {},
     "output_type": "display_data"
    },
    {
     "data": {
      "application/vnd.jupyter.widget-view+json": {
       "model_id": "dafc19865827441db5cd0f1a2db33f26",
       "version_major": 2,
       "version_minor": 0
      },
      "text/plain": [
       "  0%|          | 0/10 [00:00<?, ?it/s]"
      ]
     },
     "metadata": {},
     "output_type": "display_data"
    },
    {
     "data": {
      "application/vnd.jupyter.widget-view+json": {
       "model_id": "a2ed33fe3aba48a0bfa2f125e3cc3f67",
       "version_major": 2,
       "version_minor": 0
      },
      "text/plain": [
       "  0%|          | 0/6 [00:00<?, ?it/s]"
      ]
     },
     "metadata": {},
     "output_type": "display_data"
    },
    {
     "data": {
      "application/vnd.jupyter.widget-view+json": {
       "model_id": "758fa3f4ea5540278c8bb302b219d2fe",
       "version_major": 2,
       "version_minor": 0
      },
      "text/plain": [
       "  0%|          | 0/2 [00:00<?, ?it/s]"
      ]
     },
     "metadata": {},
     "output_type": "display_data"
    },
    {
     "data": {
      "application/vnd.jupyter.widget-view+json": {
       "model_id": "8f44333e9f724ddfb0a0e64fbbd588bd",
       "version_major": 2,
       "version_minor": 0
      },
      "text/plain": [
       "  0%|          | 0/10 [00:00<?, ?it/s]"
      ]
     },
     "metadata": {},
     "output_type": "display_data"
    },
    {
     "data": {
      "application/vnd.jupyter.widget-view+json": {
       "model_id": "e901442524e145fba528b6d9d16b464a",
       "version_major": 2,
       "version_minor": 0
      },
      "text/plain": [
       "  0%|          | 0/10 [00:00<?, ?it/s]"
      ]
     },
     "metadata": {},
     "output_type": "display_data"
    },
    {
     "data": {
      "application/vnd.jupyter.widget-view+json": {
       "model_id": "d74e962a98f94eb480639b5b0a868cc6",
       "version_major": 2,
       "version_minor": 0
      },
      "text/plain": [
       "  0%|          | 0/10 [00:00<?, ?it/s]"
      ]
     },
     "metadata": {},
     "output_type": "display_data"
    },
    {
     "data": {
      "application/vnd.jupyter.widget-view+json": {
       "model_id": "45b89011d5e9444ab95625d27bb81c20",
       "version_major": 2,
       "version_minor": 0
      },
      "text/plain": [
       "  0%|          | 0/10 [00:00<?, ?it/s]"
      ]
     },
     "metadata": {},
     "output_type": "display_data"
    },
    {
     "data": {
      "application/vnd.jupyter.widget-view+json": {
       "model_id": "e41c0e65a9ea42989685905103a23718",
       "version_major": 2,
       "version_minor": 0
      },
      "text/plain": [
       "  0%|          | 0/10 [00:00<?, ?it/s]"
      ]
     },
     "metadata": {},
     "output_type": "display_data"
    },
    {
     "data": {
      "application/vnd.jupyter.widget-view+json": {
       "model_id": "be6393ef6ca54fd3b0a9b3a82fcea587",
       "version_major": 2,
       "version_minor": 0
      },
      "text/plain": [
       "  0%|          | 0/10 [00:00<?, ?it/s]"
      ]
     },
     "metadata": {},
     "output_type": "display_data"
    },
    {
     "data": {
      "application/vnd.jupyter.widget-view+json": {
       "model_id": "ffd26a5e15f5403ba109d2521568fdcc",
       "version_major": 2,
       "version_minor": 0
      },
      "text/plain": [
       "  0%|          | 0/8 [00:00<?, ?it/s]"
      ]
     },
     "metadata": {},
     "output_type": "display_data"
    },
    {
     "data": {
      "application/vnd.jupyter.widget-view+json": {
       "model_id": "6e9318ae671e4c1790e65495dfad6f51",
       "version_major": 2,
       "version_minor": 0
      },
      "text/plain": [
       "  0%|          | 0/10 [00:00<?, ?it/s]"
      ]
     },
     "metadata": {},
     "output_type": "display_data"
    },
    {
     "data": {
      "application/vnd.jupyter.widget-view+json": {
       "model_id": "1e6c1248ab2742df8b28c56f3f3229a0",
       "version_major": 2,
       "version_minor": 0
      },
      "text/plain": [
       "  0%|          | 0/10 [00:00<?, ?it/s]"
      ]
     },
     "metadata": {},
     "output_type": "display_data"
    },
    {
     "data": {
      "application/vnd.jupyter.widget-view+json": {
       "model_id": "3d6088de94cc4acf8193738dee46fee2",
       "version_major": 2,
       "version_minor": 0
      },
      "text/plain": [
       "  0%|          | 0/10 [00:00<?, ?it/s]"
      ]
     },
     "metadata": {},
     "output_type": "display_data"
    },
    {
     "data": {
      "application/vnd.jupyter.widget-view+json": {
       "model_id": "c77d0c6d6d234d29a0127e452b538b7a",
       "version_major": 2,
       "version_minor": 0
      },
      "text/plain": [
       "  0%|          | 0/10 [00:00<?, ?it/s]"
      ]
     },
     "metadata": {},
     "output_type": "display_data"
    },
    {
     "data": {
      "application/vnd.jupyter.widget-view+json": {
       "model_id": "04d59060c88a40b5bb2a7da5e1199616",
       "version_major": 2,
       "version_minor": 0
      },
      "text/plain": [
       "  0%|          | 0/10 [00:00<?, ?it/s]"
      ]
     },
     "metadata": {},
     "output_type": "display_data"
    },
    {
     "data": {
      "application/vnd.jupyter.widget-view+json": {
       "model_id": "96db331a155247819d2a5919c32711bb",
       "version_major": 2,
       "version_minor": 0
      },
      "text/plain": [
       "  0%|          | 0/10 [00:00<?, ?it/s]"
      ]
     },
     "metadata": {},
     "output_type": "display_data"
    },
    {
     "data": {
      "application/vnd.jupyter.widget-view+json": {
       "model_id": "06cd04bf5b9747b098b6b18d4ca4b39c",
       "version_major": 2,
       "version_minor": 0
      },
      "text/plain": [
       "  0%|          | 0/10 [00:00<?, ?it/s]"
      ]
     },
     "metadata": {},
     "output_type": "display_data"
    },
    {
     "data": {
      "application/vnd.jupyter.widget-view+json": {
       "model_id": "420234956102476c9e512d6201ba816c",
       "version_major": 2,
       "version_minor": 0
      },
      "text/plain": [
       "0it [00:00, ?it/s]"
      ]
     },
     "metadata": {},
     "output_type": "display_data"
    },
    {
     "data": {
      "application/vnd.jupyter.widget-view+json": {
       "model_id": "f67e633037484aa8b32a9b3f8061fda9",
       "version_major": 2,
       "version_minor": 0
      },
      "text/plain": [
       "  0%|          | 0/10 [00:00<?, ?it/s]"
      ]
     },
     "metadata": {},
     "output_type": "display_data"
    },
    {
     "data": {
      "application/vnd.jupyter.widget-view+json": {
       "model_id": "4e5505f812154f0cbed057436a3bf8bc",
       "version_major": 2,
       "version_minor": 0
      },
      "text/plain": [
       "  0%|          | 0/10 [00:00<?, ?it/s]"
      ]
     },
     "metadata": {},
     "output_type": "display_data"
    },
    {
     "data": {
      "application/vnd.jupyter.widget-view+json": {
       "model_id": "8ecd518a2187413b8203d52e3d48fce0",
       "version_major": 2,
       "version_minor": 0
      },
      "text/plain": [
       "  0%|          | 0/10 [00:00<?, ?it/s]"
      ]
     },
     "metadata": {},
     "output_type": "display_data"
    },
    {
     "data": {
      "application/vnd.jupyter.widget-view+json": {
       "model_id": "b819490bdc624c0ab3ea3d6bb4ad7220",
       "version_major": 2,
       "version_minor": 0
      },
      "text/plain": [
       "  0%|          | 0/10 [00:00<?, ?it/s]"
      ]
     },
     "metadata": {},
     "output_type": "display_data"
    },
    {
     "data": {
      "application/vnd.jupyter.widget-view+json": {
       "model_id": "245c57ad1d7d48dba312273d07d0d91f",
       "version_major": 2,
       "version_minor": 0
      },
      "text/plain": [
       "  0%|          | 0/4 [00:00<?, ?it/s]"
      ]
     },
     "metadata": {},
     "output_type": "display_data"
    },
    {
     "data": {
      "application/vnd.jupyter.widget-view+json": {
       "model_id": "ad5ea8be562249adad0b136a707a6180",
       "version_major": 2,
       "version_minor": 0
      },
      "text/plain": [
       "  0%|          | 0/10 [00:00<?, ?it/s]"
      ]
     },
     "metadata": {},
     "output_type": "display_data"
    },
    {
     "data": {
      "application/vnd.jupyter.widget-view+json": {
       "model_id": "ef6da6302a614cc1a1f5602d56f2f94d",
       "version_major": 2,
       "version_minor": 0
      },
      "text/plain": [
       "  0%|          | 0/10 [00:00<?, ?it/s]"
      ]
     },
     "metadata": {},
     "output_type": "display_data"
    },
    {
     "data": {
      "application/vnd.jupyter.widget-view+json": {
       "model_id": "6cfe2e2e32da456cacccdece3a50ed66",
       "version_major": 2,
       "version_minor": 0
      },
      "text/plain": [
       "  0%|          | 0/10 [00:00<?, ?it/s]"
      ]
     },
     "metadata": {},
     "output_type": "display_data"
    },
    {
     "data": {
      "application/vnd.jupyter.widget-view+json": {
       "model_id": "a80f6b45a68042bbbcf8a1eeb8d593e3",
       "version_major": 2,
       "version_minor": 0
      },
      "text/plain": [
       "  0%|          | 0/10 [00:00<?, ?it/s]"
      ]
     },
     "metadata": {},
     "output_type": "display_data"
    },
    {
     "data": {
      "application/vnd.jupyter.widget-view+json": {
       "model_id": "a605c429acea4edda7033dbeead19b2a",
       "version_major": 2,
       "version_minor": 0
      },
      "text/plain": [
       "  0%|          | 0/10 [00:00<?, ?it/s]"
      ]
     },
     "metadata": {},
     "output_type": "display_data"
    },
    {
     "data": {
      "application/vnd.jupyter.widget-view+json": {
       "model_id": "f2fdf27f4c114928989ab36431483a49",
       "version_major": 2,
       "version_minor": 0
      },
      "text/plain": [
       "  0%|          | 0/10 [00:00<?, ?it/s]"
      ]
     },
     "metadata": {},
     "output_type": "display_data"
    },
    {
     "data": {
      "application/vnd.jupyter.widget-view+json": {
       "model_id": "8d1dbd3b804b4033adf1a5cf4768927f",
       "version_major": 2,
       "version_minor": 0
      },
      "text/plain": [
       "  0%|          | 0/10 [00:00<?, ?it/s]"
      ]
     },
     "metadata": {},
     "output_type": "display_data"
    },
    {
     "data": {
      "application/vnd.jupyter.widget-view+json": {
       "model_id": "bcf47a650f334c45b51e59978e5b5023",
       "version_major": 2,
       "version_minor": 0
      },
      "text/plain": [
       "  0%|          | 0/10 [00:00<?, ?it/s]"
      ]
     },
     "metadata": {},
     "output_type": "display_data"
    },
    {
     "data": {
      "application/vnd.jupyter.widget-view+json": {
       "model_id": "3e6b9c6ea56745ca928367016890ca9b",
       "version_major": 2,
       "version_minor": 0
      },
      "text/plain": [
       "  0%|          | 0/10 [00:00<?, ?it/s]"
      ]
     },
     "metadata": {},
     "output_type": "display_data"
    },
    {
     "data": {
      "application/vnd.jupyter.widget-view+json": {
       "model_id": "fbf9801988604409af264296e16ff6cf",
       "version_major": 2,
       "version_minor": 0
      },
      "text/plain": [
       "  0%|          | 0/9 [00:00<?, ?it/s]"
      ]
     },
     "metadata": {},
     "output_type": "display_data"
    },
    {
     "data": {
      "application/vnd.jupyter.widget-view+json": {
       "model_id": "9ec1d575eecf4add85052f0714c3a21a",
       "version_major": 2,
       "version_minor": 0
      },
      "text/plain": [
       "  0%|          | 0/10 [00:00<?, ?it/s]"
      ]
     },
     "metadata": {},
     "output_type": "display_data"
    },
    {
     "data": {
      "application/vnd.jupyter.widget-view+json": {
       "model_id": "e922899081cd4f5cb5bddd1dbdad7a77",
       "version_major": 2,
       "version_minor": 0
      },
      "text/plain": [
       "  0%|          | 0/8 [00:00<?, ?it/s]"
      ]
     },
     "metadata": {},
     "output_type": "display_data"
    },
    {
     "data": {
      "application/vnd.jupyter.widget-view+json": {
       "model_id": "e95aac1d49664c55895d2afee4442feb",
       "version_major": 2,
       "version_minor": 0
      },
      "text/plain": [
       "  0%|          | 0/10 [00:00<?, ?it/s]"
      ]
     },
     "metadata": {},
     "output_type": "display_data"
    },
    {
     "data": {
      "application/vnd.jupyter.widget-view+json": {
       "model_id": "5834e2aa4d40490c8a8b5454599c9d91",
       "version_major": 2,
       "version_minor": 0
      },
      "text/plain": [
       "  0%|          | 0/10 [00:00<?, ?it/s]"
      ]
     },
     "metadata": {},
     "output_type": "display_data"
    },
    {
     "data": {
      "application/vnd.jupyter.widget-view+json": {
       "model_id": "0e138a077bee40a18e63c6d346096915",
       "version_major": 2,
       "version_minor": 0
      },
      "text/plain": [
       "  0%|          | 0/10 [00:00<?, ?it/s]"
      ]
     },
     "metadata": {},
     "output_type": "display_data"
    },
    {
     "data": {
      "application/vnd.jupyter.widget-view+json": {
       "model_id": "bbbd28bf3774403f853ebae744c78c98",
       "version_major": 2,
       "version_minor": 0
      },
      "text/plain": [
       "  0%|          | 0/10 [00:00<?, ?it/s]"
      ]
     },
     "metadata": {},
     "output_type": "display_data"
    },
    {
     "data": {
      "application/vnd.jupyter.widget-view+json": {
       "model_id": "218baa4bc7f445689c3928d37fc5fb06",
       "version_major": 2,
       "version_minor": 0
      },
      "text/plain": [
       "0it [00:00, ?it/s]"
      ]
     },
     "metadata": {},
     "output_type": "display_data"
    },
    {
     "data": {
      "application/vnd.jupyter.widget-view+json": {
       "model_id": "901f51d3227249a680dce5e8d7eee8ca",
       "version_major": 2,
       "version_minor": 0
      },
      "text/plain": [
       "0it [00:00, ?it/s]"
      ]
     },
     "metadata": {},
     "output_type": "display_data"
    },
    {
     "data": {
      "application/vnd.jupyter.widget-view+json": {
       "model_id": "5166beb95cf14bbe82afc190df1a8930",
       "version_major": 2,
       "version_minor": 0
      },
      "text/plain": [
       "  0%|          | 0/7 [00:00<?, ?it/s]"
      ]
     },
     "metadata": {},
     "output_type": "display_data"
    },
    {
     "data": {
      "application/vnd.jupyter.widget-view+json": {
       "model_id": "0aa05cd8c72240bdb59eff1d3704e390",
       "version_major": 2,
       "version_minor": 0
      },
      "text/plain": [
       "  0%|          | 0/2 [00:00<?, ?it/s]"
      ]
     },
     "metadata": {},
     "output_type": "display_data"
    },
    {
     "data": {
      "application/vnd.jupyter.widget-view+json": {
       "model_id": "6f9bc647029a4a82944b9db6ae39fcd5",
       "version_major": 2,
       "version_minor": 0
      },
      "text/plain": [
       "0it [00:00, ?it/s]"
      ]
     },
     "metadata": {},
     "output_type": "display_data"
    }
   ],
   "source": [
    "label_compute = True # Put at True if you want to compute the labels\n",
    "\n",
    "\n",
    "if label_compute:\n",
    "    start_time = time.time()\n",
    "    labels_emb = compute_cluster_emb(dublin_data_sampled, embedding_data_sampled)\n",
    "    with open(f'Datasets/labels/labels_emb_dublin_{percentage}.pkl', 'wb') as f:\n",
    "        pickle.dump(labels_emb, f)\n",
    "    end_time = time.time()\n",
    "    time_emb = end_time - start_time\n",
    "else:\n",
    "    # Open labels that already exist\n",
    "    with open(f'Datasets/labels/labels_emb_dublin_{percentage}.pkl', 'rb') as f:\n",
    "        labels_emb = pickle.load(f)"
   ]
  },
  {
   "cell_type": "code",
   "execution_count": 744,
   "id": "c121adf9",
   "metadata": {},
   "outputs": [],
   "source": [
    "def plot_trajectory(data_visualisation, labels, max_attemps = 100):\n",
    "    \"\"\"\n",
    "    Plot the trajectory of attemps, exercise by exercise\n",
    "    \n",
    "    - data_visualisation : list of dictionnary that contain embbeding, correction, date, student id and attemps\n",
    "    - labels : labels computed by clustering methode\n",
    "    - max_attemps : number max of attemps we can find by exercise\n",
    "    \"\"\"\n",
    "    trajectory, correct, date, student, code = data_visualisation\n",
    "    for exo in labels.keys():\n",
    "        list_emb = trajectory[exo] \n",
    "        # Control the transparency of the points. \n",
    "        # If 1, the point won't be transparent, else he will be a bit transparent in the graph\n",
    "        valeurs_alpha = correct[exo] \n",
    "        unique_labels = labels[exo] # list of different label : id_student and correction\n",
    "        list_date = date[exo]\n",
    "        # To ensure a readable graph, we limit the number of attempts\n",
    "        if len(list_emb) < max_attemps:\n",
    "            data_array = np.array(list_emb)\n",
    "            n_samples = data_array.shape[0]\n",
    "            perplexity = min(n_samples - 1, 30)  \n",
    "\n",
    "            # Utiliser t-SNE avec perplexité appropriée\n",
    "            pca = PCA(n_components=2, random_state=42)\n",
    "            X_transformed = pca.fit_transform(data_array)\n",
    "\n",
    "            # Label\n",
    "            cmap = plt.cm.tab10\n",
    "            label_color_map = {label: cmap(i) for i, label in enumerate(np.unique(unique_labels))}\n",
    "            alpha_values = [0.2 if val == 0 else 1 for val in valeurs_alpha]\n",
    "\n",
    "            # Create a new figure for each exercise\n",
    "            plt.figure()\n",
    "\n",
    "            # Plot all points at once\n",
    "            plotted_labels = set()  \n",
    "            for label in unique_labels:\n",
    "                if label not in plotted_labels: \n",
    "                    indices = [i for i, l in enumerate(unique_labels) if l == label]\n",
    "                    # Select the alpha values corresponding to the indices\n",
    "                    alpha_values_subset = [alpha_values[i] for i in indices] \n",
    "                    plt.scatter(X_transformed[indices, 0], X_transformed[indices, 1], alpha=alpha_values_subset, color=label_color_map[label], label=label, s=50)\n",
    "                    # Add the label to the set of labels already added\n",
    "                    plotted_labels.add(label) \n",
    "\n",
    "                    # Add arrows by connecting each consecutive point\n",
    "                    for i in range(len(indices) - 1):\n",
    "                        premier_point = (X_transformed[indices[i], 0], X_transformed[indices[i], 1])\n",
    "                        dernier_point = (X_transformed[indices[i + 1], 0], X_transformed[indices[i + 1], 1])\n",
    "                        plt.annotate('', xy=dernier_point, xytext=premier_point,\n",
    "                                     arrowprops=dict(facecolor=label_color_map[label], edgecolor=label_color_map[label], arrowstyle='->', linewidth=1))\n",
    "            # Add legend\n",
    "            plt.legend(bbox_to_anchor=(1.05, 1), loc='upper left')\n",
    "            plt.title(f\"Exercice {exo}\")\n",
    "\n",
    "            # Show the plot for this exercise\n",
    "            plt.show()\n"
   ]
  },
  {
   "cell_type": "code",
   "execution_count": 745,
   "id": "15baa64b",
   "metadata": {},
   "outputs": [],
   "source": [
    "# Get our previous data constructed from visualisation_trajectory notebook\n",
    "with open('Datasets\\data_visualisation_dublin.pkl', 'rb') as fichier:\n",
    "    data_visualisation = pickle.load(fichier)"
   ]
  },
  {
   "cell_type": "code",
   "execution_count": 746,
   "id": "eb7db408",
   "metadata": {},
   "outputs": [
    {
     "data": {
      "image/png": "[encoded data removed]",
      "text/plain": [
       "<Figure size 640x480 with 1 Axes>"
      ]
     },
     "metadata": {},
     "output_type": "display_data"
    },
    {
     "data": {
      "image/png": "[encoded data removed]",
      "text/plain": [
       "<Figure size 640x480 with 1 Axes>"
      ]
     },
     "metadata": {},
     "output_type": "display_data"
    },
    {
     "data": {
      "image/png": "[encoded data removed]",
      "text/plain": [
       "<Figure size 640x480 with 1 Axes>"
      ]
     },
     "metadata": {},
     "output_type": "display_data"
    }
   ],
   "source": [
    "plot_trajectory(data_visualisation, labels_emb)"
   ]
  },
  {
   "cell_type": "markdown",
   "id": "c4325e23",
   "metadata": {},
   "source": [
    "# Clustering on cos² and levenshtein"
   ]
  },
  {
   "cell_type": "code",
   "execution_count": 747,
   "id": "0205a354",
   "metadata": {},
   "outputs": [],
   "source": [
    "# Load data trajectories\n",
    "\n",
    "with open('Datasets/Trajectories/trajectory_lev_dublin.pkl', 'rb') as fichier:\n",
    "    trajec_lev = pickle.load(fichier)\n",
    "with open('Datasets/Trajectories/trajectory_cos_dublin.pkl', 'rb') as fichier:\n",
    "    trajec_cos = pickle.load(fichier)\n",
    "with open('Datasets/Trajectories/trajectory_date_dublin.pkl', 'rb') as fichier:\n",
    "    trajec_date = pickle.load(fichier)"
   ]
  },
  {
   "cell_type": "code",
   "execution_count": 748,
   "id": "31f6ada0-ce92-46be-a527-5db3a828a8ef",
   "metadata": {},
   "outputs": [
    {
     "data": {
      "application/vnd.jupyter.widget-view+json": {
       "model_id": "e67b76927cb34e7e8f5f2d78ede4768d",
       "version_major": 2,
       "version_minor": 0
      },
      "text/plain": [
       "  0%|          | 0/92 [00:00<?, ?it/s]"
      ]
     },
     "metadata": {},
     "output_type": "display_data"
    }
   ],
   "source": [
    "# Since we are taking a percentage of the data, we adapt the trajec_method data to match our reduced dataset\n",
    "attempts_ex_student = {}\n",
    "for attempts in dublin_data_sampled:\n",
    "    exercise = attempts[\"exercise_name\"]\n",
    "    student = attempts[\"user\"]\n",
    "    if exercise not in attempts_ex_student:\n",
    "        attempts_ex_student[exercise] = {}\n",
    "    if student not in attempts_ex_student[exercise]:\n",
    "         attempts_ex_student[exercise][student] = 0\n",
    "    attempts_ex_student[exercise][student] += 1\n",
    "\n",
    "\n",
    "for exercise in tqdm(attempts_ex_student):\n",
    "    for student in (attempts_ex_student[exercise]):\n",
    "        if len(trajec_lev[exercise][student]) > attempts_ex_student[exercise][student]:\n",
    "            while len(trajec_lev[exercise][student]) > attempts_ex_student[exercise][student]:\n",
    "                index = range(len(trajec_lev[exercise][student])-1)\n",
    "                index_random = random.choice(index)\n",
    "                trajec_lev[exercise][student].pop(index_random)\n",
    "                trajec_cos[exercise][student].pop(index_random)\n",
    "                trajec_date[exercise][student].pop(index_random)"
   ]
  },
  {
   "cell_type": "code",
   "execution_count": 749,
   "id": "ba96ae88-0c24-49e6-bb59-7c5243de53bf",
   "metadata": {},
   "outputs": [],
   "source": [
    "# Since we are taking a percentage of the data, we adapt the trajec_method data to match our reduced dataset\n",
    "\n",
    "copy_trajec = {}\n",
    "for exercise in trajec_lev:\n",
    "    copy_trajec[exercise] = {}\n",
    "    for student in trajec_lev[exercise]:\n",
    "        copy_trajec[exercise][student] = 0"
   ]
  },
  {
   "cell_type": "code",
   "execution_count": 750,
   "id": "9e3e516d-e9cd-4f2f-ac1d-eca4846136ce",
   "metadata": {},
   "outputs": [],
   "source": [
    "# Since we are taking a percentage of the data, we adapt the trajec_method data to match our reduced dataset\n",
    "\n",
    "for exercise in copy_trajec:\n",
    "    if exercise not in attempts_ex_student:\n",
    "        del trajec_lev[exercise]\n",
    "        del trajec_cos[exercise]\n",
    "        del trajec_date[exercise]"
   ]
  },
  {
   "cell_type": "code",
   "execution_count": 751,
   "id": "8032c2fe-b059-48ff-bdf8-335cdde2b09f",
   "metadata": {},
   "outputs": [],
   "source": [
    "# Since we are taking a percentage of the data, we adapt the trajec_method data to match our reduced dataset\n",
    "\n",
    "for exercise in attempts_ex_student:\n",
    "    if len(attempts_ex_student[exercise]) < len(trajec_lev[exercise]):\n",
    "        for student in copy_trajec[exercise]:\n",
    "            if student not in attempts_ex_student[exercise]:\n",
    "                del trajec_lev[exercise][student]\n",
    "                del trajec_cos[exercise][student]\n",
    "                del trajec_date[exercise][student]"
   ]
  },
  {
   "cell_type": "code",
   "execution_count": 752,
   "id": "4737f6f3",
   "metadata": {},
   "outputs": [],
   "source": [
    "def compute_cluster(trajec, trajec_date):\n",
    "    \"\"\"\n",
    "    Give the labels from the clustering for each exercise\n",
    "    \"\"\"\n",
    "    diff_date = diff_date_(trajec_date)\n",
    "    repartition_date = repartition_date_(diff_date)\n",
    "    padded_trajectory = padd_trajectories(diff_date, repartition_date, trajec)\n",
    "    labels_ = get_labels(padded_trajectory)\n",
    "    return labels_"
   ]
  },
  {
   "cell_type": "code",
   "execution_count": 753,
   "id": "d9ca7deb",
   "metadata": {},
   "outputs": [
    {
     "data": {
      "application/vnd.jupyter.widget-view+json": {
       "model_id": "3acadc387169412cad19a5f850b82e15",
       "version_major": 2,
       "version_minor": 0
      },
      "text/plain": [
       "  0%|          | 0/92 [00:00<?, ?it/s]"
      ]
     },
     "metadata": {},
     "output_type": "display_data"
    },
    {
     "data": {
      "application/vnd.jupyter.widget-view+json": {
       "model_id": "758e81f5411e4f1493e5eb716fc85154",
       "version_major": 2,
       "version_minor": 0
      },
      "text/plain": [
       "  0%|          | 0/10 [00:00<?, ?it/s]"
      ]
     },
     "metadata": {},
     "output_type": "display_data"
    },
    {
     "data": {
      "application/vnd.jupyter.widget-view+json": {
       "model_id": "6d0d15481e4d4970bf4382787fe102b1",
       "version_major": 2,
       "version_minor": 0
      },
      "text/plain": [
       "  0%|          | 0/10 [00:00<?, ?it/s]"
      ]
     },
     "metadata": {},
     "output_type": "display_data"
    },
    {
     "data": {
      "application/vnd.jupyter.widget-view+json": {
       "model_id": "6bed1d3b2e42487aa9fbc49eea2c4ffd",
       "version_major": 2,
       "version_minor": 0
      },
      "text/plain": [
       "  0%|          | 0/10 [00:00<?, ?it/s]"
      ]
     },
     "metadata": {},
     "output_type": "display_data"
    },
    {
     "data": {
      "application/vnd.jupyter.widget-view+json": {
       "model_id": "2516ef91d0dc464e9e7c30a12317400b",
       "version_major": 2,
       "version_minor": 0
      },
      "text/plain": [
       "  0%|          | 0/10 [00:00<?, ?it/s]"
      ]
     },
     "metadata": {},
     "output_type": "display_data"
    },
    {
     "data": {
      "application/vnd.jupyter.widget-view+json": {
       "model_id": "84b0924c4a1a4573a5e65dacd1426c73",
       "version_major": 2,
       "version_minor": 0
      },
      "text/plain": [
       "  0%|          | 0/10 [00:00<?, ?it/s]"
      ]
     },
     "metadata": {},
     "output_type": "display_data"
    },
    {
     "data": {
      "application/vnd.jupyter.widget-view+json": {
       "model_id": "055f0c73dad44374a20ff153b5ab9a3a",
       "version_major": 2,
       "version_minor": 0
      },
      "text/plain": [
       "  0%|          | 0/10 [00:00<?, ?it/s]"
      ]
     },
     "metadata": {},
     "output_type": "display_data"
    },
    {
     "data": {
      "application/vnd.jupyter.widget-view+json": {
       "model_id": "1f26d194e552483ebba11a86d48c03c6",
       "version_major": 2,
       "version_minor": 0
      },
      "text/plain": [
       "  0%|          | 0/10 [00:00<?, ?it/s]"
      ]
     },
     "metadata": {},
     "output_type": "display_data"
    },
    {
     "data": {
      "application/vnd.jupyter.widget-view+json": {
       "model_id": "ad815c6c91464200a9c5eb2369fcb1ce",
       "version_major": 2,
       "version_minor": 0
      },
      "text/plain": [
       "  0%|          | 0/10 [00:00<?, ?it/s]"
      ]
     },
     "metadata": {},
     "output_type": "display_data"
    },
    {
     "data": {
      "application/vnd.jupyter.widget-view+json": {
       "model_id": "3824bd7f50c045b696d711f0ce47aff2",
       "version_major": 2,
       "version_minor": 0
      },
      "text/plain": [
       "  0%|          | 0/10 [00:00<?, ?it/s]"
      ]
     },
     "metadata": {},
     "output_type": "display_data"
    },
    {
     "data": {
      "application/vnd.jupyter.widget-view+json": {
       "model_id": "aaaaf23376e2414eade659983e2a248a",
       "version_major": 2,
       "version_minor": 0
      },
      "text/plain": [
       "  0%|          | 0/10 [00:00<?, ?it/s]"
      ]
     },
     "metadata": {},
     "output_type": "display_data"
    },
    {
     "data": {
      "application/vnd.jupyter.widget-view+json": {
       "model_id": "c0992aeb2a9a4864a5121f279bb96d9a",
       "version_major": 2,
       "version_minor": 0
      },
      "text/plain": [
       "  0%|          | 0/10 [00:00<?, ?it/s]"
      ]
     },
     "metadata": {},
     "output_type": "display_data"
    },
    {
     "data": {
      "application/vnd.jupyter.widget-view+json": {
       "model_id": "b3b332102bd94779b44896e74131b7a2",
       "version_major": 2,
       "version_minor": 0
      },
      "text/plain": [
       "  0%|          | 0/10 [00:00<?, ?it/s]"
      ]
     },
     "metadata": {},
     "output_type": "display_data"
    },
    {
     "data": {
      "application/vnd.jupyter.widget-view+json": {
       "model_id": "4f19f2a4f2a94cae8cc986fa4cf17e9e",
       "version_major": 2,
       "version_minor": 0
      },
      "text/plain": [
       "  0%|          | 0/10 [00:00<?, ?it/s]"
      ]
     },
     "metadata": {},
     "output_type": "display_data"
    },
    {
     "data": {
      "application/vnd.jupyter.widget-view+json": {
       "model_id": "b1b9be322f6d447ba30d194eaddc3f4f",
       "version_major": 2,
       "version_minor": 0
      },
      "text/plain": [
       "  0%|          | 0/10 [00:00<?, ?it/s]"
      ]
     },
     "metadata": {},
     "output_type": "display_data"
    },
    {
     "data": {
      "application/vnd.jupyter.widget-view+json": {
       "model_id": "0b04944333d64e1fb02045bdd56b0b71",
       "version_major": 2,
       "version_minor": 0
      },
      "text/plain": [
       "  0%|          | 0/8 [00:00<?, ?it/s]"
      ]
     },
     "metadata": {},
     "output_type": "display_data"
    },
    {
     "data": {
      "application/vnd.jupyter.widget-view+json": {
       "model_id": "a4b507a4fe4540e99785bec00f8fba05",
       "version_major": 2,
       "version_minor": 0
      },
      "text/plain": [
       "  0%|          | 0/10 [00:00<?, ?it/s]"
      ]
     },
     "metadata": {},
     "output_type": "display_data"
    },
    {
     "data": {
      "application/vnd.jupyter.widget-view+json": {
       "model_id": "315933bcab3c412b81761bae1c9eec18",
       "version_major": 2,
       "version_minor": 0
      },
      "text/plain": [
       "  0%|          | 0/10 [00:00<?, ?it/s]"
      ]
     },
     "metadata": {},
     "output_type": "display_data"
    },
    {
     "data": {
      "application/vnd.jupyter.widget-view+json": {
       "model_id": "a9e2035d091f4f61bc2ad385d04096e5",
       "version_major": 2,
       "version_minor": 0
      },
      "text/plain": [
       "  0%|          | 0/10 [00:00<?, ?it/s]"
      ]
     },
     "metadata": {},
     "output_type": "display_data"
    },
    {
     "data": {
      "application/vnd.jupyter.widget-view+json": {
       "model_id": "70bee5f4135b41909447aa39775ef088",
       "version_major": 2,
       "version_minor": 0
      },
      "text/plain": [
       "  0%|          | 0/10 [00:00<?, ?it/s]"
      ]
     },
     "metadata": {},
     "output_type": "display_data"
    },
    {
     "data": {
      "application/vnd.jupyter.widget-view+json": {
       "model_id": "e0d4ac96c3f942baba9d4d061e6e096a",
       "version_major": 2,
       "version_minor": 0
      },
      "text/plain": [
       "  0%|          | 0/10 [00:00<?, ?it/s]"
      ]
     },
     "metadata": {},
     "output_type": "display_data"
    },
    {
     "data": {
      "application/vnd.jupyter.widget-view+json": {
       "model_id": "a226d279f26249a8a6cf1d1772852781",
       "version_major": 2,
       "version_minor": 0
      },
      "text/plain": [
       "  0%|          | 0/10 [00:00<?, ?it/s]"
      ]
     },
     "metadata": {},
     "output_type": "display_data"
    },
    {
     "data": {
      "application/vnd.jupyter.widget-view+json": {
       "model_id": "7914d92deb3046fead10fa63ccc53e5f",
       "version_major": 2,
       "version_minor": 0
      },
      "text/plain": [
       "  0%|          | 0/10 [00:00<?, ?it/s]"
      ]
     },
     "metadata": {},
     "output_type": "display_data"
    },
    {
     "data": {
      "application/vnd.jupyter.widget-view+json": {
       "model_id": "9b62c8a1855e4c20a998af30a1d8b86a",
       "version_major": 2,
       "version_minor": 0
      },
      "text/plain": [
       "  0%|          | 0/10 [00:00<?, ?it/s]"
      ]
     },
     "metadata": {},
     "output_type": "display_data"
    },
    {
     "data": {
      "application/vnd.jupyter.widget-view+json": {
       "model_id": "41551c77e3c14e6aad3222efa3a54276",
       "version_major": 2,
       "version_minor": 0
      },
      "text/plain": [
       "  0%|          | 0/10 [00:00<?, ?it/s]"
      ]
     },
     "metadata": {},
     "output_type": "display_data"
    },
    {
     "data": {
      "application/vnd.jupyter.widget-view+json": {
       "model_id": "fccd6ad60a614658bb80efb76e7ca245",
       "version_major": 2,
       "version_minor": 0
      },
      "text/plain": [
       "  0%|          | 0/10 [00:00<?, ?it/s]"
      ]
     },
     "metadata": {},
     "output_type": "display_data"
    },
    {
     "data": {
      "application/vnd.jupyter.widget-view+json": {
       "model_id": "a796fc1bec8c4d9eb7310574b9396be6",
       "version_major": 2,
       "version_minor": 0
      },
      "text/plain": [
       "  0%|          | 0/10 [00:00<?, ?it/s]"
      ]
     },
     "metadata": {},
     "output_type": "display_data"
    },
    {
     "data": {
      "application/vnd.jupyter.widget-view+json": {
       "model_id": "f1f7b82bc73a4560b240ca8e15986b1a",
       "version_major": 2,
       "version_minor": 0
      },
      "text/plain": [
       "  0%|          | 0/10 [00:00<?, ?it/s]"
      ]
     },
     "metadata": {},
     "output_type": "display_data"
    },
    {
     "data": {
      "application/vnd.jupyter.widget-view+json": {
       "model_id": "99c1cee8852c401593a6a3846d980cf5",
       "version_major": 2,
       "version_minor": 0
      },
      "text/plain": [
       "  0%|          | 0/10 [00:00<?, ?it/s]"
      ]
     },
     "metadata": {},
     "output_type": "display_data"
    },
    {
     "data": {
      "application/vnd.jupyter.widget-view+json": {
       "model_id": "791b91df437c433da3800efe064eb8da",
       "version_major": 2,
       "version_minor": 0
      },
      "text/plain": [
       "  0%|          | 0/10 [00:00<?, ?it/s]"
      ]
     },
     "metadata": {},
     "output_type": "display_data"
    },
    {
     "data": {
      "application/vnd.jupyter.widget-view+json": {
       "model_id": "7a4da90a3986458eb78af5be96093e93",
       "version_major": 2,
       "version_minor": 0
      },
      "text/plain": [
       "  0%|          | 0/10 [00:00<?, ?it/s]"
      ]
     },
     "metadata": {},
     "output_type": "display_data"
    },
    {
     "data": {
      "application/vnd.jupyter.widget-view+json": {
       "model_id": "f1819ecadeda43388f25c018b0c67522",
       "version_major": 2,
       "version_minor": 0
      },
      "text/plain": [
       "  0%|          | 0/10 [00:00<?, ?it/s]"
      ]
     },
     "metadata": {},
     "output_type": "display_data"
    },
    {
     "data": {
      "application/vnd.jupyter.widget-view+json": {
       "model_id": "e093c393184a414bab271c5d549de9b4",
       "version_major": 2,
       "version_minor": 0
      },
      "text/plain": [
       "  0%|          | 0/10 [00:00<?, ?it/s]"
      ]
     },
     "metadata": {},
     "output_type": "display_data"
    },
    {
     "data": {
      "application/vnd.jupyter.widget-view+json": {
       "model_id": "96b588f8d64c4b05b899c75bb012922c",
       "version_major": 2,
       "version_minor": 0
      },
      "text/plain": [
       "  0%|          | 0/10 [00:00<?, ?it/s]"
      ]
     },
     "metadata": {},
     "output_type": "display_data"
    },
    {
     "data": {
      "application/vnd.jupyter.widget-view+json": {
       "model_id": "2c24de7761774476831b973ff934da0b",
       "version_major": 2,
       "version_minor": 0
      },
      "text/plain": [
       "  0%|          | 0/10 [00:00<?, ?it/s]"
      ]
     },
     "metadata": {},
     "output_type": "display_data"
    },
    {
     "data": {
      "application/vnd.jupyter.widget-view+json": {
       "model_id": "5cec07c1a4744c4f9381936b00b0ee37",
       "version_major": 2,
       "version_minor": 0
      },
      "text/plain": [
       "  0%|          | 0/10 [00:00<?, ?it/s]"
      ]
     },
     "metadata": {},
     "output_type": "display_data"
    },
    {
     "data": {
      "application/vnd.jupyter.widget-view+json": {
       "model_id": "0404e4ea5d8a40b0a0ac116c6a9c8b46",
       "version_major": 2,
       "version_minor": 0
      },
      "text/plain": [
       "  0%|          | 0/10 [00:00<?, ?it/s]"
      ]
     },
     "metadata": {},
     "output_type": "display_data"
    },
    {
     "data": {
      "application/vnd.jupyter.widget-view+json": {
       "model_id": "611a60bfeefb4a0bb322996202f9e2d6",
       "version_major": 2,
       "version_minor": 0
      },
      "text/plain": [
       "  0%|          | 0/10 [00:00<?, ?it/s]"
      ]
     },
     "metadata": {},
     "output_type": "display_data"
    },
    {
     "data": {
      "application/vnd.jupyter.widget-view+json": {
       "model_id": "8b0bf8b9071a4d6face28937a7021f1c",
       "version_major": 2,
       "version_minor": 0
      },
      "text/plain": [
       "  0%|          | 0/10 [00:00<?, ?it/s]"
      ]
     },
     "metadata": {},
     "output_type": "display_data"
    },
    {
     "data": {
      "application/vnd.jupyter.widget-view+json": {
       "model_id": "855993618e374f4fb1e9cfcbc3e99d7f",
       "version_major": 2,
       "version_minor": 0
      },
      "text/plain": [
       "  0%|          | 0/10 [00:00<?, ?it/s]"
      ]
     },
     "metadata": {},
     "output_type": "display_data"
    },
    {
     "data": {
      "application/vnd.jupyter.widget-view+json": {
       "model_id": "30844890aee541f0b5530ba1271e610d",
       "version_major": 2,
       "version_minor": 0
      },
      "text/plain": [
       "  0%|          | 0/10 [00:00<?, ?it/s]"
      ]
     },
     "metadata": {},
     "output_type": "display_data"
    },
    {
     "data": {
      "application/vnd.jupyter.widget-view+json": {
       "model_id": "4d46dc57a9cc446ea3c31fa9f462af96",
       "version_major": 2,
       "version_minor": 0
      },
      "text/plain": [
       "  0%|          | 0/10 [00:00<?, ?it/s]"
      ]
     },
     "metadata": {},
     "output_type": "display_data"
    },
    {
     "data": {
      "application/vnd.jupyter.widget-view+json": {
       "model_id": "d923f0f8a9e34ad69da527cc2188f0e9",
       "version_major": 2,
       "version_minor": 0
      },
      "text/plain": [
       "  0%|          | 0/10 [00:00<?, ?it/s]"
      ]
     },
     "metadata": {},
     "output_type": "display_data"
    },
    {
     "data": {
      "application/vnd.jupyter.widget-view+json": {
       "model_id": "5f30cd6bcbb042c3bfe814ee4ee25f06",
       "version_major": 2,
       "version_minor": 0
      },
      "text/plain": [
       "  0%|          | 0/10 [00:00<?, ?it/s]"
      ]
     },
     "metadata": {},
     "output_type": "display_data"
    },
    {
     "data": {
      "application/vnd.jupyter.widget-view+json": {
       "model_id": "aa54245975254c6abfbc6ffdba060988",
       "version_major": 2,
       "version_minor": 0
      },
      "text/plain": [
       "  0%|          | 0/6 [00:00<?, ?it/s]"
      ]
     },
     "metadata": {},
     "output_type": "display_data"
    },
    {
     "data": {
      "application/vnd.jupyter.widget-view+json": {
       "model_id": "3eadcc4f9c094c55885c1902984e77f3",
       "version_major": 2,
       "version_minor": 0
      },
      "text/plain": [
       "  0%|          | 0/10 [00:00<?, ?it/s]"
      ]
     },
     "metadata": {},
     "output_type": "display_data"
    },
    {
     "data": {
      "application/vnd.jupyter.widget-view+json": {
       "model_id": "9e20ed8747114d38b7b6e84f8f457272",
       "version_major": 2,
       "version_minor": 0
      },
      "text/plain": [
       "  0%|          | 0/10 [00:00<?, ?it/s]"
      ]
     },
     "metadata": {},
     "output_type": "display_data"
    },
    {
     "data": {
      "application/vnd.jupyter.widget-view+json": {
       "model_id": "5d2072565f7e4b5e89c55a6e10fa7449",
       "version_major": 2,
       "version_minor": 0
      },
      "text/plain": [
       "  0%|          | 0/10 [00:00<?, ?it/s]"
      ]
     },
     "metadata": {},
     "output_type": "display_data"
    },
    {
     "data": {
      "application/vnd.jupyter.widget-view+json": {
       "model_id": "d9db9cbb8d8d4b2090a95c1bd4df225f",
       "version_major": 2,
       "version_minor": 0
      },
      "text/plain": [
       "  0%|          | 0/10 [00:00<?, ?it/s]"
      ]
     },
     "metadata": {},
     "output_type": "display_data"
    },
    {
     "data": {
      "application/vnd.jupyter.widget-view+json": {
       "model_id": "e9cf8c2fb3c94266b5e1e732eab74c02",
       "version_major": 2,
       "version_minor": 0
      },
      "text/plain": [
       "  0%|          | 0/10 [00:00<?, ?it/s]"
      ]
     },
     "metadata": {},
     "output_type": "display_data"
    },
    {
     "data": {
      "application/vnd.jupyter.widget-view+json": {
       "model_id": "f9bb9970fd964a13b263e96a0bf6364e",
       "version_major": 2,
       "version_minor": 0
      },
      "text/plain": [
       "  0%|          | 0/10 [00:00<?, ?it/s]"
      ]
     },
     "metadata": {},
     "output_type": "display_data"
    },
    {
     "data": {
      "application/vnd.jupyter.widget-view+json": {
       "model_id": "700ead2af2414510880d8fcbcca03ef7",
       "version_major": 2,
       "version_minor": 0
      },
      "text/plain": [
       "  0%|          | 0/4 [00:00<?, ?it/s]"
      ]
     },
     "metadata": {},
     "output_type": "display_data"
    },
    {
     "data": {
      "application/vnd.jupyter.widget-view+json": {
       "model_id": "27bb2c03ed81483dbdb461e28dddb117",
       "version_major": 2,
       "version_minor": 0
      },
      "text/plain": [
       "  0%|          | 0/10 [00:00<?, ?it/s]"
      ]
     },
     "metadata": {},
     "output_type": "display_data"
    },
    {
     "data": {
      "application/vnd.jupyter.widget-view+json": {
       "model_id": "accb3d6856c748b3ae0045a7a370304f",
       "version_major": 2,
       "version_minor": 0
      },
      "text/plain": [
       "  0%|          | 0/10 [00:00<?, ?it/s]"
      ]
     },
     "metadata": {},
     "output_type": "display_data"
    },
    {
     "data": {
      "application/vnd.jupyter.widget-view+json": {
       "model_id": "46b118a094d54fc999516719e8a8c9a8",
       "version_major": 2,
       "version_minor": 0
      },
      "text/plain": [
       "  0%|          | 0/10 [00:00<?, ?it/s]"
      ]
     },
     "metadata": {},
     "output_type": "display_data"
    },
    {
     "data": {
      "application/vnd.jupyter.widget-view+json": {
       "model_id": "226204ee51324ccbb69a723a63dd1cea",
       "version_major": 2,
       "version_minor": 0
      },
      "text/plain": [
       "  0%|          | 0/10 [00:00<?, ?it/s]"
      ]
     },
     "metadata": {},
     "output_type": "display_data"
    },
    {
     "data": {
      "application/vnd.jupyter.widget-view+json": {
       "model_id": "b5828e2e0d7d4917a54d744723b78189",
       "version_major": 2,
       "version_minor": 0
      },
      "text/plain": [
       "  0%|          | 0/10 [00:00<?, ?it/s]"
      ]
     },
     "metadata": {},
     "output_type": "display_data"
    },
    {
     "data": {
      "application/vnd.jupyter.widget-view+json": {
       "model_id": "11eec18db11445a0af2295539c021f4a",
       "version_major": 2,
       "version_minor": 0
      },
      "text/plain": [
       "  0%|          | 0/10 [00:00<?, ?it/s]"
      ]
     },
     "metadata": {},
     "output_type": "display_data"
    },
    {
     "data": {
      "application/vnd.jupyter.widget-view+json": {
       "model_id": "35bf5c48f0f9480896bfb9c93fd989d7",
       "version_major": 2,
       "version_minor": 0
      },
      "text/plain": [
       "  0%|          | 0/7 [00:00<?, ?it/s]"
      ]
     },
     "metadata": {},
     "output_type": "display_data"
    },
    {
     "data": {
      "application/vnd.jupyter.widget-view+json": {
       "model_id": "93f0ba4650534f94b311b7b7366cc018",
       "version_major": 2,
       "version_minor": 0
      },
      "text/plain": [
       "  0%|          | 0/10 [00:00<?, ?it/s]"
      ]
     },
     "metadata": {},
     "output_type": "display_data"
    },
    {
     "data": {
      "application/vnd.jupyter.widget-view+json": {
       "model_id": "73e0a8f29bb54629aa261b6b9caad2c6",
       "version_major": 2,
       "version_minor": 0
      },
      "text/plain": [
       "  0%|          | 0/10 [00:00<?, ?it/s]"
      ]
     },
     "metadata": {},
     "output_type": "display_data"
    },
    {
     "data": {
      "application/vnd.jupyter.widget-view+json": {
       "model_id": "3eae3af3fe1e4608bfc2e2628c25bf9e",
       "version_major": 2,
       "version_minor": 0
      },
      "text/plain": [
       "  0%|          | 0/10 [00:00<?, ?it/s]"
      ]
     },
     "metadata": {},
     "output_type": "display_data"
    },
    {
     "data": {
      "application/vnd.jupyter.widget-view+json": {
       "model_id": "a32f540b849441fb8036c77123aab83f",
       "version_major": 2,
       "version_minor": 0
      },
      "text/plain": [
       "  0%|          | 0/10 [00:00<?, ?it/s]"
      ]
     },
     "metadata": {},
     "output_type": "display_data"
    },
    {
     "data": {
      "application/vnd.jupyter.widget-view+json": {
       "model_id": "c0b0c961c3354ea98c9e23b3b34f6c39",
       "version_major": 2,
       "version_minor": 0
      },
      "text/plain": [
       "  0%|          | 0/10 [00:00<?, ?it/s]"
      ]
     },
     "metadata": {},
     "output_type": "display_data"
    },
    {
     "data": {
      "application/vnd.jupyter.widget-view+json": {
       "model_id": "a8186281678d4afba3c04482d96afa4e",
       "version_major": 2,
       "version_minor": 0
      },
      "text/plain": [
       "  0%|          | 0/10 [00:00<?, ?it/s]"
      ]
     },
     "metadata": {},
     "output_type": "display_data"
    },
    {
     "data": {
      "application/vnd.jupyter.widget-view+json": {
       "model_id": "6ad071e8f331413b8b82ed3a00bd8dad",
       "version_major": 2,
       "version_minor": 0
      },
      "text/plain": [
       "  0%|          | 0/10 [00:00<?, ?it/s]"
      ]
     },
     "metadata": {},
     "output_type": "display_data"
    },
    {
     "data": {
      "application/vnd.jupyter.widget-view+json": {
       "model_id": "39093abde21542b6b1e10c29a1727566",
       "version_major": 2,
       "version_minor": 0
      },
      "text/plain": [
       "  0%|          | 0/10 [00:00<?, ?it/s]"
      ]
     },
     "metadata": {},
     "output_type": "display_data"
    },
    {
     "data": {
      "application/vnd.jupyter.widget-view+json": {
       "model_id": "ce264173e4994ec891f9a25f7c83f623",
       "version_major": 2,
       "version_minor": 0
      },
      "text/plain": [
       "  0%|          | 0/10 [00:00<?, ?it/s]"
      ]
     },
     "metadata": {},
     "output_type": "display_data"
    },
    {
     "data": {
      "application/vnd.jupyter.widget-view+json": {
       "model_id": "7403b4a1af0840d3ba4cb25cb53a71c6",
       "version_major": 2,
       "version_minor": 0
      },
      "text/plain": [
       "  0%|          | 0/10 [00:00<?, ?it/s]"
      ]
     },
     "metadata": {},
     "output_type": "display_data"
    },
    {
     "data": {
      "application/vnd.jupyter.widget-view+json": {
       "model_id": "72c84259b9514943994b2c6e4b65e9eb",
       "version_major": 2,
       "version_minor": 0
      },
      "text/plain": [
       "  0%|          | 0/10 [00:00<?, ?it/s]"
      ]
     },
     "metadata": {},
     "output_type": "display_data"
    },
    {
     "data": {
      "application/vnd.jupyter.widget-view+json": {
       "model_id": "15cdf99db5dc49719d1fa34c5c50521f",
       "version_major": 2,
       "version_minor": 0
      },
      "text/plain": [
       "  0%|          | 0/10 [00:00<?, ?it/s]"
      ]
     },
     "metadata": {},
     "output_type": "display_data"
    },
    {
     "data": {
      "application/vnd.jupyter.widget-view+json": {
       "model_id": "ee6ddc4724dd4a25b33e6c4ace6a5679",
       "version_major": 2,
       "version_minor": 0
      },
      "text/plain": [
       "  0%|          | 0/10 [00:00<?, ?it/s]"
      ]
     },
     "metadata": {},
     "output_type": "display_data"
    },
    {
     "data": {
      "application/vnd.jupyter.widget-view+json": {
       "model_id": "5df260e904a84b118d6b168ae7312ce9",
       "version_major": 2,
       "version_minor": 0
      },
      "text/plain": [
       "  0%|          | 0/10 [00:00<?, ?it/s]"
      ]
     },
     "metadata": {},
     "output_type": "display_data"
    },
    {
     "data": {
      "application/vnd.jupyter.widget-view+json": {
       "model_id": "aff4987c666344189a1e6f07c563b689",
       "version_major": 2,
       "version_minor": 0
      },
      "text/plain": [
       "0it [00:00, ?it/s]"
      ]
     },
     "metadata": {},
     "output_type": "display_data"
    },
    {
     "data": {
      "application/vnd.jupyter.widget-view+json": {
       "model_id": "eed88b949467409aa40a9de241b0ae79",
       "version_major": 2,
       "version_minor": 0
      },
      "text/plain": [
       "  0%|          | 0/10 [00:00<?, ?it/s]"
      ]
     },
     "metadata": {},
     "output_type": "display_data"
    },
    {
     "data": {
      "application/vnd.jupyter.widget-view+json": {
       "model_id": "a1b0cc75e5bc42afb6df867038516d29",
       "version_major": 2,
       "version_minor": 0
      },
      "text/plain": [
       "  0%|          | 0/10 [00:00<?, ?it/s]"
      ]
     },
     "metadata": {},
     "output_type": "display_data"
    },
    {
     "data": {
      "application/vnd.jupyter.widget-view+json": {
       "model_id": "1a904add65664a22b2836c84a201eafd",
       "version_major": 2,
       "version_minor": 0
      },
      "text/plain": [
       "  0%|          | 0/10 [00:00<?, ?it/s]"
      ]
     },
     "metadata": {},
     "output_type": "display_data"
    },
    {
     "data": {
      "application/vnd.jupyter.widget-view+json": {
       "model_id": "3c69b5429d414623b219d490cb9b07e7",
       "version_major": 2,
       "version_minor": 0
      },
      "text/plain": [
       "  0%|          | 0/10 [00:00<?, ?it/s]"
      ]
     },
     "metadata": {},
     "output_type": "display_data"
    },
    {
     "data": {
      "application/vnd.jupyter.widget-view+json": {
       "model_id": "0176b38fdca84afd981c0169b17a5b5f",
       "version_major": 2,
       "version_minor": 0
      },
      "text/plain": [
       "0it [00:00, ?it/s]"
      ]
     },
     "metadata": {},
     "output_type": "display_data"
    },
    {
     "data": {
      "application/vnd.jupyter.widget-view+json": {
       "model_id": "81d6f2151ba247ee9620dad3e074d977",
       "version_major": 2,
       "version_minor": 0
      },
      "text/plain": [
       "  0%|          | 0/10 [00:00<?, ?it/s]"
      ]
     },
     "metadata": {},
     "output_type": "display_data"
    },
    {
     "data": {
      "application/vnd.jupyter.widget-view+json": {
       "model_id": "74f4c91f57204bd583472d9be9978c11",
       "version_major": 2,
       "version_minor": 0
      },
      "text/plain": [
       "  0%|          | 0/10 [00:00<?, ?it/s]"
      ]
     },
     "metadata": {},
     "output_type": "display_data"
    },
    {
     "data": {
      "application/vnd.jupyter.widget-view+json": {
       "model_id": "1cd51c282d824019ba4012ebdceea27d",
       "version_major": 2,
       "version_minor": 0
      },
      "text/plain": [
       "  0%|          | 0/10 [00:00<?, ?it/s]"
      ]
     },
     "metadata": {},
     "output_type": "display_data"
    },
    {
     "data": {
      "application/vnd.jupyter.widget-view+json": {
       "model_id": "2aa40dd339bd403597129c62962e32a1",
       "version_major": 2,
       "version_minor": 0
      },
      "text/plain": [
       "  0%|          | 0/2 [00:00<?, ?it/s]"
      ]
     },
     "metadata": {},
     "output_type": "display_data"
    },
    {
     "data": {
      "application/vnd.jupyter.widget-view+json": {
       "model_id": "2726f01a71654a239760572b45ffe171",
       "version_major": 2,
       "version_minor": 0
      },
      "text/plain": [
       "  0%|          | 0/10 [00:00<?, ?it/s]"
      ]
     },
     "metadata": {},
     "output_type": "display_data"
    },
    {
     "data": {
      "application/vnd.jupyter.widget-view+json": {
       "model_id": "64767ab8f20840f9ad7399b722ce4937",
       "version_major": 2,
       "version_minor": 0
      },
      "text/plain": [
       "  0%|          | 0/10 [00:00<?, ?it/s]"
      ]
     },
     "metadata": {},
     "output_type": "display_data"
    },
    {
     "data": {
      "application/vnd.jupyter.widget-view+json": {
       "model_id": "0aae3a7c862045179a1187f7f82b57f4",
       "version_major": 2,
       "version_minor": 0
      },
      "text/plain": [
       "  0%|          | 0/9 [00:00<?, ?it/s]"
      ]
     },
     "metadata": {},
     "output_type": "display_data"
    },
    {
     "data": {
      "application/vnd.jupyter.widget-view+json": {
       "model_id": "3b7927f253a34581b486dc72fc7c2157",
       "version_major": 2,
       "version_minor": 0
      },
      "text/plain": [
       "  0%|          | 0/8 [00:00<?, ?it/s]"
      ]
     },
     "metadata": {},
     "output_type": "display_data"
    },
    {
     "data": {
      "application/vnd.jupyter.widget-view+json": {
       "model_id": "37ab8ab73af648a4a1aa3c1d4d359708",
       "version_major": 2,
       "version_minor": 0
      },
      "text/plain": [
       "  0%|          | 0/10 [00:00<?, ?it/s]"
      ]
     },
     "metadata": {},
     "output_type": "display_data"
    },
    {
     "data": {
      "application/vnd.jupyter.widget-view+json": {
       "model_id": "25af2fafefb949eca99a2885eb168bf8",
       "version_major": 2,
       "version_minor": 0
      },
      "text/plain": [
       "  0%|          | 0/10 [00:00<?, ?it/s]"
      ]
     },
     "metadata": {},
     "output_type": "display_data"
    },
    {
     "data": {
      "application/vnd.jupyter.widget-view+json": {
       "model_id": "cd29404df4444047b6b4581f21719902",
       "version_major": 2,
       "version_minor": 0
      },
      "text/plain": [
       "  0%|          | 0/10 [00:00<?, ?it/s]"
      ]
     },
     "metadata": {},
     "output_type": "display_data"
    },
    {
     "data": {
      "application/vnd.jupyter.widget-view+json": {
       "model_id": "f5087bb8ba7a4c3cb96efef1e9e66e6c",
       "version_major": 2,
       "version_minor": 0
      },
      "text/plain": [
       "  0%|          | 0/2 [00:00<?, ?it/s]"
      ]
     },
     "metadata": {},
     "output_type": "display_data"
    },
    {
     "data": {
      "application/vnd.jupyter.widget-view+json": {
       "model_id": "01e5ff627219437dba8d18465b4f48a7",
       "version_major": 2,
       "version_minor": 0
      },
      "text/plain": [
       "0it [00:00, ?it/s]"
      ]
     },
     "metadata": {},
     "output_type": "display_data"
    },
    {
     "data": {
      "application/vnd.jupyter.widget-view+json": {
       "model_id": "5dbcb7216794445ea9f2289b14f44da9",
       "version_major": 2,
       "version_minor": 0
      },
      "text/plain": [
       "0it [00:00, ?it/s]"
      ]
     },
     "metadata": {},
     "output_type": "display_data"
    },
    {
     "ename": "NameError",
     "evalue": "name 'labels_lev' is not defined",
     "output_type": "error",
     "traceback": [
      "\u001b[1;31m---------------------------------------------------------------------------\u001b[0m",
      "\u001b[1;31mNameError\u001b[0m                                 Traceback (most recent call last)",
      "Cell \u001b[1;32mIn[753], line 7\u001b[0m\n\u001b[0;32m      5\u001b[0m label_lev \u001b[38;5;241m=\u001b[39m compute_cluster(trajec_lev, trajec_date) \n\u001b[0;32m      6\u001b[0m \u001b[38;5;28;01mwith\u001b[39;00m \u001b[38;5;28mopen\u001b[39m(\u001b[38;5;124mf\u001b[39m\u001b[38;5;124m'\u001b[39m\u001b[38;5;124mDatasets/labels_lev_dublin_\u001b[39m\u001b[38;5;132;01m{\u001b[39;00mpercentage\u001b[38;5;132;01m}\u001b[39;00m\u001b[38;5;124m.pkl\u001b[39m\u001b[38;5;124m'\u001b[39m, \u001b[38;5;124m'\u001b[39m\u001b[38;5;124mwb\u001b[39m\u001b[38;5;124m'\u001b[39m) \u001b[38;5;28;01mas\u001b[39;00m f:\n\u001b[1;32m----> 7\u001b[0m     pickle\u001b[38;5;241m.\u001b[39mdump(labels_lev, f)\n\u001b[0;32m      8\u001b[0m end_time \u001b[38;5;241m=\u001b[39m time\u001b[38;5;241m.\u001b[39mtime()\n\u001b[0;32m      9\u001b[0m time_lev \u001b[38;5;241m=\u001b[39m end_time \u001b[38;5;241m-\u001b[39m start_time\n",
      "\u001b[1;31mNameError\u001b[0m: name 'labels_lev' is not defined"
     ]
    }
   ],
   "source": [
    "label_compute = True # Put at True if you want to compute the labels\n",
    "\n",
    "if label_compute:\n",
    "    start_time = time.time()\n",
    "    label_lev = compute_cluster(trajec_lev, trajec_date) \n",
    "    with open(f'Datasets/labels_lev_dublin_{percentage}.pkl', 'wb') as f:\n",
    "        pickle.dump(labels_lev, f)\n",
    "    end_time = time.time()\n",
    "    time_lev = end_time - start_time\n",
    "else:\n",
    "    # Open labels that already exists\n",
    "    with open(f'Datasets/labels/labels_lev_dublin_{percentage}.pkl', 'rb') as f:\n",
    "        label_lev = pickle.load(f)  "
   ]
  },
  {
   "cell_type": "code",
   "execution_count": 754,
   "id": "18785436",
   "metadata": {},
   "outputs": [
    {
     "data": {
      "application/vnd.jupyter.widget-view+json": {
       "model_id": "6518d083beaf4ca79dfa49fbbd98d6c3",
       "version_major": 2,
       "version_minor": 0
      },
      "text/plain": [
       "  0%|          | 0/92 [00:00<?, ?it/s]"
      ]
     },
     "metadata": {},
     "output_type": "display_data"
    },
    {
     "data": {
      "application/vnd.jupyter.widget-view+json": {
       "model_id": "df7fc612205d468bab97d24650330577",
       "version_major": 2,
       "version_minor": 0
      },
      "text/plain": [
       "  0%|          | 0/10 [00:00<?, ?it/s]"
      ]
     },
     "metadata": {},
     "output_type": "display_data"
    },
    {
     "data": {
      "application/vnd.jupyter.widget-view+json": {
       "model_id": "c2314ddeb3d64f6fbae3dfd0c0806d11",
       "version_major": 2,
       "version_minor": 0
      },
      "text/plain": [
       "  0%|          | 0/10 [00:00<?, ?it/s]"
      ]
     },
     "metadata": {},
     "output_type": "display_data"
    },
    {
     "data": {
      "application/vnd.jupyter.widget-view+json": {
       "model_id": "4d8f72816b5247b09b2d486b3941adcf",
       "version_major": 2,
       "version_minor": 0
      },
      "text/plain": [
       "  0%|          | 0/10 [00:00<?, ?it/s]"
      ]
     },
     "metadata": {},
     "output_type": "display_data"
    },
    {
     "data": {
      "application/vnd.jupyter.widget-view+json": {
       "model_id": "7fe4d93bfa8c4c38bf124a876740f31e",
       "version_major": 2,
       "version_minor": 0
      },
      "text/plain": [
       "  0%|          | 0/10 [00:00<?, ?it/s]"
      ]
     },
     "metadata": {},
     "output_type": "display_data"
    },
    {
     "data": {
      "application/vnd.jupyter.widget-view+json": {
       "model_id": "aecc4fc8dadb4861a400f1b613fcb767",
       "version_major": 2,
       "version_minor": 0
      },
      "text/plain": [
       "  0%|          | 0/10 [00:00<?, ?it/s]"
      ]
     },
     "metadata": {},
     "output_type": "display_data"
    },
    {
     "data": {
      "application/vnd.jupyter.widget-view+json": {
       "model_id": "375862d6838c4ae0b2e6ebc82a4764e1",
       "version_major": 2,
       "version_minor": 0
      },
      "text/plain": [
       "  0%|          | 0/10 [00:00<?, ?it/s]"
      ]
     },
     "metadata": {},
     "output_type": "display_data"
    },
    {
     "data": {
      "application/vnd.jupyter.widget-view+json": {
       "model_id": "0b16c01e10c54cada63377e8d339f8be",
       "version_major": 2,
       "version_minor": 0
      },
      "text/plain": [
       "  0%|          | 0/10 [00:00<?, ?it/s]"
      ]
     },
     "metadata": {},
     "output_type": "display_data"
    },
    {
     "data": {
      "application/vnd.jupyter.widget-view+json": {
       "model_id": "bee3ba766554493aa178fb2478d12edc",
       "version_major": 2,
       "version_minor": 0
      },
      "text/plain": [
       "  0%|          | 0/10 [00:00<?, ?it/s]"
      ]
     },
     "metadata": {},
     "output_type": "display_data"
    },
    {
     "data": {
      "application/vnd.jupyter.widget-view+json": {
       "model_id": "134716d0d1e8471db6411a38a6655f24",
       "version_major": 2,
       "version_minor": 0
      },
      "text/plain": [
       "  0%|          | 0/10 [00:00<?, ?it/s]"
      ]
     },
     "metadata": {},
     "output_type": "display_data"
    },
    {
     "data": {
      "application/vnd.jupyter.widget-view+json": {
       "model_id": "7671d57e9be842b2b7f554bbc2163237",
       "version_major": 2,
       "version_minor": 0
      },
      "text/plain": [
       "  0%|          | 0/10 [00:00<?, ?it/s]"
      ]
     },
     "metadata": {},
     "output_type": "display_data"
    },
    {
     "data": {
      "application/vnd.jupyter.widget-view+json": {
       "model_id": "265150bf6c2d4155a34ae4fae2ad392c",
       "version_major": 2,
       "version_minor": 0
      },
      "text/plain": [
       "  0%|          | 0/10 [00:00<?, ?it/s]"
      ]
     },
     "metadata": {},
     "output_type": "display_data"
    },
    {
     "data": {
      "application/vnd.jupyter.widget-view+json": {
       "model_id": "a0b628bda0ef4dffb9b808fa28b74575",
       "version_major": 2,
       "version_minor": 0
      },
      "text/plain": [
       "  0%|          | 0/10 [00:00<?, ?it/s]"
      ]
     },
     "metadata": {},
     "output_type": "display_data"
    },
    {
     "data": {
      "application/vnd.jupyter.widget-view+json": {
       "model_id": "815f2728b188499cb53d381104b5c065",
       "version_major": 2,
       "version_minor": 0
      },
      "text/plain": [
       "  0%|          | 0/10 [00:00<?, ?it/s]"
      ]
     },
     "metadata": {},
     "output_type": "display_data"
    },
    {
     "data": {
      "application/vnd.jupyter.widget-view+json": {
       "model_id": "a327e36726aa40eebee461777eb47dd8",
       "version_major": 2,
       "version_minor": 0
      },
      "text/plain": [
       "  0%|          | 0/10 [00:00<?, ?it/s]"
      ]
     },
     "metadata": {},
     "output_type": "display_data"
    },
    {
     "data": {
      "application/vnd.jupyter.widget-view+json": {
       "model_id": "6496cfcbbb294d7d9e1854ac861f190c",
       "version_major": 2,
       "version_minor": 0
      },
      "text/plain": [
       "  0%|          | 0/8 [00:00<?, ?it/s]"
      ]
     },
     "metadata": {},
     "output_type": "display_data"
    },
    {
     "data": {
      "application/vnd.jupyter.widget-view+json": {
       "model_id": "c04a27645e184737903ac3edd52943eb",
       "version_major": 2,
       "version_minor": 0
      },
      "text/plain": [
       "  0%|          | 0/10 [00:00<?, ?it/s]"
      ]
     },
     "metadata": {},
     "output_type": "display_data"
    },
    {
     "data": {
      "application/vnd.jupyter.widget-view+json": {
       "model_id": "c6047bd999824c7986969d7f8fc5ffb9",
       "version_major": 2,
       "version_minor": 0
      },
      "text/plain": [
       "  0%|          | 0/10 [00:00<?, ?it/s]"
      ]
     },
     "metadata": {},
     "output_type": "display_data"
    },
    {
     "data": {
      "application/vnd.jupyter.widget-view+json": {
       "model_id": "e379f9e8324a4fcfa6a9be6a33249bc8",
       "version_major": 2,
       "version_minor": 0
      },
      "text/plain": [
       "  0%|          | 0/10 [00:00<?, ?it/s]"
      ]
     },
     "metadata": {},
     "output_type": "display_data"
    },
    {
     "data": {
      "application/vnd.jupyter.widget-view+json": {
       "model_id": "cd8450d81a994ee6ae2d3d6947e1f49e",
       "version_major": 2,
       "version_minor": 0
      },
      "text/plain": [
       "  0%|          | 0/10 [00:00<?, ?it/s]"
      ]
     },
     "metadata": {},
     "output_type": "display_data"
    },
    {
     "data": {
      "application/vnd.jupyter.widget-view+json": {
       "model_id": "9d99b86541de4d4ebe3264ed411c618c",
       "version_major": 2,
       "version_minor": 0
      },
      "text/plain": [
       "  0%|          | 0/10 [00:00<?, ?it/s]"
      ]
     },
     "metadata": {},
     "output_type": "display_data"
    },
    {
     "data": {
      "application/vnd.jupyter.widget-view+json": {
       "model_id": "cfed9692e3294e9ca2eaab56cc1686da",
       "version_major": 2,
       "version_minor": 0
      },
      "text/plain": [
       "  0%|          | 0/10 [00:00<?, ?it/s]"
      ]
     },
     "metadata": {},
     "output_type": "display_data"
    },
    {
     "data": {
      "application/vnd.jupyter.widget-view+json": {
       "model_id": "16cc302d5c0a48cb882fb3bec381469a",
       "version_major": 2,
       "version_minor": 0
      },
      "text/plain": [
       "  0%|          | 0/10 [00:00<?, ?it/s]"
      ]
     },
     "metadata": {},
     "output_type": "display_data"
    },
    {
     "data": {
      "application/vnd.jupyter.widget-view+json": {
       "model_id": "494dcd72d9f644efbf67fc552fcf862b",
       "version_major": 2,
       "version_minor": 0
      },
      "text/plain": [
       "  0%|          | 0/10 [00:00<?, ?it/s]"
      ]
     },
     "metadata": {},
     "output_type": "display_data"
    },
    {
     "data": {
      "application/vnd.jupyter.widget-view+json": {
       "model_id": "ccaf0ccdd9074ee3837c0e3abd69482c",
       "version_major": 2,
       "version_minor": 0
      },
      "text/plain": [
       "  0%|          | 0/10 [00:00<?, ?it/s]"
      ]
     },
     "metadata": {},
     "output_type": "display_data"
    },
    {
     "data": {
      "application/vnd.jupyter.widget-view+json": {
       "model_id": "776cf80cb42e420c9f1a4ec1bf3df639",
       "version_major": 2,
       "version_minor": 0
      },
      "text/plain": [
       "  0%|          | 0/10 [00:00<?, ?it/s]"
      ]
     },
     "metadata": {},
     "output_type": "display_data"
    },
    {
     "data": {
      "application/vnd.jupyter.widget-view+json": {
       "model_id": "b0049e67c2a740fa8ca3f2b48b89db35",
       "version_major": 2,
       "version_minor": 0
      },
      "text/plain": [
       "  0%|          | 0/10 [00:00<?, ?it/s]"
      ]
     },
     "metadata": {},
     "output_type": "display_data"
    },
    {
     "data": {
      "application/vnd.jupyter.widget-view+json": {
       "model_id": "e59deecf0bb340d9a1bfe58a01b19fa9",
       "version_major": 2,
       "version_minor": 0
      },
      "text/plain": [
       "  0%|          | 0/10 [00:00<?, ?it/s]"
      ]
     },
     "metadata": {},
     "output_type": "display_data"
    },
    {
     "data": {
      "application/vnd.jupyter.widget-view+json": {
       "model_id": "f4fc990657f84241bb72b187871599c3",
       "version_major": 2,
       "version_minor": 0
      },
      "text/plain": [
       "  0%|          | 0/10 [00:00<?, ?it/s]"
      ]
     },
     "metadata": {},
     "output_type": "display_data"
    },
    {
     "data": {
      "application/vnd.jupyter.widget-view+json": {
       "model_id": "b633d27ea7a0483c86bfef5d4c56d05c",
       "version_major": 2,
       "version_minor": 0
      },
      "text/plain": [
       "  0%|          | 0/10 [00:00<?, ?it/s]"
      ]
     },
     "metadata": {},
     "output_type": "display_data"
    },
    {
     "data": {
      "application/vnd.jupyter.widget-view+json": {
       "model_id": "97d4d23914b94ddfaf0e43d0bda2b6d5",
       "version_major": 2,
       "version_minor": 0
      },
      "text/plain": [
       "  0%|          | 0/10 [00:00<?, ?it/s]"
      ]
     },
     "metadata": {},
     "output_type": "display_data"
    },
    {
     "data": {
      "application/vnd.jupyter.widget-view+json": {
       "model_id": "8f94ef0432074dcda923209bd6f0411f",
       "version_major": 2,
       "version_minor": 0
      },
      "text/plain": [
       "  0%|          | 0/10 [00:00<?, ?it/s]"
      ]
     },
     "metadata": {},
     "output_type": "display_data"
    },
    {
     "data": {
      "application/vnd.jupyter.widget-view+json": {
       "model_id": "4a4512cbcaf04bc1a74a39b47736b773",
       "version_major": 2,
       "version_minor": 0
      },
      "text/plain": [
       "  0%|          | 0/10 [00:00<?, ?it/s]"
      ]
     },
     "metadata": {},
     "output_type": "display_data"
    },
    {
     "data": {
      "application/vnd.jupyter.widget-view+json": {
       "model_id": "c7429844faa64b13beef1607b1db4377",
       "version_major": 2,
       "version_minor": 0
      },
      "text/plain": [
       "  0%|          | 0/10 [00:00<?, ?it/s]"
      ]
     },
     "metadata": {},
     "output_type": "display_data"
    },
    {
     "data": {
      "application/vnd.jupyter.widget-view+json": {
       "model_id": "148b0783cacb43a993684258439c4374",
       "version_major": 2,
       "version_minor": 0
      },
      "text/plain": [
       "  0%|          | 0/10 [00:00<?, ?it/s]"
      ]
     },
     "metadata": {},
     "output_type": "display_data"
    },
    {
     "data": {
      "application/vnd.jupyter.widget-view+json": {
       "model_id": "d01a79dd08a443619c24e685276a998d",
       "version_major": 2,
       "version_minor": 0
      },
      "text/plain": [
       "  0%|          | 0/10 [00:00<?, ?it/s]"
      ]
     },
     "metadata": {},
     "output_type": "display_data"
    },
    {
     "data": {
      "application/vnd.jupyter.widget-view+json": {
       "model_id": "fb4cfa4e31ea47b590183e9bb6b11643",
       "version_major": 2,
       "version_minor": 0
      },
      "text/plain": [
       "  0%|          | 0/10 [00:00<?, ?it/s]"
      ]
     },
     "metadata": {},
     "output_type": "display_data"
    },
    {
     "data": {
      "application/vnd.jupyter.widget-view+json": {
       "model_id": "44c02b75b50043d19a7cec893f4435ae",
       "version_major": 2,
       "version_minor": 0
      },
      "text/plain": [
       "  0%|          | 0/10 [00:00<?, ?it/s]"
      ]
     },
     "metadata": {},
     "output_type": "display_data"
    },
    {
     "data": {
      "application/vnd.jupyter.widget-view+json": {
       "model_id": "809f9945bfc64d6e918a3f865c5392bf",
       "version_major": 2,
       "version_minor": 0
      },
      "text/plain": [
       "  0%|          | 0/10 [00:00<?, ?it/s]"
      ]
     },
     "metadata": {},
     "output_type": "display_data"
    },
    {
     "data": {
      "application/vnd.jupyter.widget-view+json": {
       "model_id": "d3d502d814d748d685bf307088821008",
       "version_major": 2,
       "version_minor": 0
      },
      "text/plain": [
       "  0%|          | 0/10 [00:00<?, ?it/s]"
      ]
     },
     "metadata": {},
     "output_type": "display_data"
    },
    {
     "data": {
      "application/vnd.jupyter.widget-view+json": {
       "model_id": "3f4f6d07633a495fa8d98ed7789d0324",
       "version_major": 2,
       "version_minor": 0
      },
      "text/plain": [
       "  0%|          | 0/10 [00:00<?, ?it/s]"
      ]
     },
     "metadata": {},
     "output_type": "display_data"
    },
    {
     "data": {
      "application/vnd.jupyter.widget-view+json": {
       "model_id": "de40a882b71f4031abe8e78f36e85db5",
       "version_major": 2,
       "version_minor": 0
      },
      "text/plain": [
       "  0%|          | 0/10 [00:00<?, ?it/s]"
      ]
     },
     "metadata": {},
     "output_type": "display_data"
    },
    {
     "data": {
      "application/vnd.jupyter.widget-view+json": {
       "model_id": "229ac0b8ac8c44d3b6319c40819f90d3",
       "version_major": 2,
       "version_minor": 0
      },
      "text/plain": [
       "  0%|          | 0/10 [00:00<?, ?it/s]"
      ]
     },
     "metadata": {},
     "output_type": "display_data"
    },
    {
     "data": {
      "application/vnd.jupyter.widget-view+json": {
       "model_id": "ff4756fbb44f42878acb36f5a3765f90",
       "version_major": 2,
       "version_minor": 0
      },
      "text/plain": [
       "  0%|          | 0/10 [00:00<?, ?it/s]"
      ]
     },
     "metadata": {},
     "output_type": "display_data"
    },
    {
     "data": {
      "application/vnd.jupyter.widget-view+json": {
       "model_id": "8ff9331cf4c54ac5821d7f78a5923b84",
       "version_major": 2,
       "version_minor": 0
      },
      "text/plain": [
       "  0%|          | 0/6 [00:00<?, ?it/s]"
      ]
     },
     "metadata": {},
     "output_type": "display_data"
    },
    {
     "data": {
      "application/vnd.jupyter.widget-view+json": {
       "model_id": "33d62a3a45c34b96a7da4ff89188afa6",
       "version_major": 2,
       "version_minor": 0
      },
      "text/plain": [
       "  0%|          | 0/10 [00:00<?, ?it/s]"
      ]
     },
     "metadata": {},
     "output_type": "display_data"
    },
    {
     "data": {
      "application/vnd.jupyter.widget-view+json": {
       "model_id": "d171d4629c5e444189a7ff745b6c57da",
       "version_major": 2,
       "version_minor": 0
      },
      "text/plain": [
       "  0%|          | 0/10 [00:00<?, ?it/s]"
      ]
     },
     "metadata": {},
     "output_type": "display_data"
    },
    {
     "data": {
      "application/vnd.jupyter.widget-view+json": {
       "model_id": "8cd89c9024404c948eb8482d772613a6",
       "version_major": 2,
       "version_minor": 0
      },
      "text/plain": [
       "  0%|          | 0/10 [00:00<?, ?it/s]"
      ]
     },
     "metadata": {},
     "output_type": "display_data"
    },
    {
     "data": {
      "application/vnd.jupyter.widget-view+json": {
       "model_id": "768d8971e5594e69a9eeee603d4610d7",
       "version_major": 2,
       "version_minor": 0
      },
      "text/plain": [
       "  0%|          | 0/10 [00:00<?, ?it/s]"
      ]
     },
     "metadata": {},
     "output_type": "display_data"
    },
    {
     "data": {
      "application/vnd.jupyter.widget-view+json": {
       "model_id": "3110567bbf5e4eb3abc2f2f4f43faa06",
       "version_major": 2,
       "version_minor": 0
      },
      "text/plain": [
       "  0%|          | 0/10 [00:00<?, ?it/s]"
      ]
     },
     "metadata": {},
     "output_type": "display_data"
    },
    {
     "data": {
      "application/vnd.jupyter.widget-view+json": {
       "model_id": "9721c6f7bc364b49a58f2731382bf3e6",
       "version_major": 2,
       "version_minor": 0
      },
      "text/plain": [
       "  0%|          | 0/10 [00:00<?, ?it/s]"
      ]
     },
     "metadata": {},
     "output_type": "display_data"
    },
    {
     "data": {
      "application/vnd.jupyter.widget-view+json": {
       "model_id": "eaa60390c01e490993f928a69d198edc",
       "version_major": 2,
       "version_minor": 0
      },
      "text/plain": [
       "  0%|          | 0/4 [00:00<?, ?it/s]"
      ]
     },
     "metadata": {},
     "output_type": "display_data"
    },
    {
     "data": {
      "application/vnd.jupyter.widget-view+json": {
       "model_id": "c3c25c5e7f8d434a9d6e1606a5a0209d",
       "version_major": 2,
       "version_minor": 0
      },
      "text/plain": [
       "  0%|          | 0/10 [00:00<?, ?it/s]"
      ]
     },
     "metadata": {},
     "output_type": "display_data"
    },
    {
     "data": {
      "application/vnd.jupyter.widget-view+json": {
       "model_id": "ac77af5193ea4874a67e87aca1a22607",
       "version_major": 2,
       "version_minor": 0
      },
      "text/plain": [
       "  0%|          | 0/10 [00:00<?, ?it/s]"
      ]
     },
     "metadata": {},
     "output_type": "display_data"
    },
    {
     "data": {
      "application/vnd.jupyter.widget-view+json": {
       "model_id": "7cba02816d23463c919fb2c33a295544",
       "version_major": 2,
       "version_minor": 0
      },
      "text/plain": [
       "  0%|          | 0/10 [00:00<?, ?it/s]"
      ]
     },
     "metadata": {},
     "output_type": "display_data"
    },
    {
     "data": {
      "application/vnd.jupyter.widget-view+json": {
       "model_id": "3a0002cf35b94b7899a2c0abc236212e",
       "version_major": 2,
       "version_minor": 0
      },
      "text/plain": [
       "  0%|          | 0/10 [00:00<?, ?it/s]"
      ]
     },
     "metadata": {},
     "output_type": "display_data"
    },
    {
     "data": {
      "application/vnd.jupyter.widget-view+json": {
       "model_id": "ff9ec5600ee24587addfce0a1d5c93cf",
       "version_major": 2,
       "version_minor": 0
      },
      "text/plain": [
       "  0%|          | 0/10 [00:00<?, ?it/s]"
      ]
     },
     "metadata": {},
     "output_type": "display_data"
    },
    {
     "data": {
      "application/vnd.jupyter.widget-view+json": {
       "model_id": "1b2eea0af2ce4fe2a54f6f373ca7a605",
       "version_major": 2,
       "version_minor": 0
      },
      "text/plain": [
       "  0%|          | 0/10 [00:00<?, ?it/s]"
      ]
     },
     "metadata": {},
     "output_type": "display_data"
    },
    {
     "data": {
      "application/vnd.jupyter.widget-view+json": {
       "model_id": "53657f66375646ab91757a57affcf078",
       "version_major": 2,
       "version_minor": 0
      },
      "text/plain": [
       "  0%|          | 0/7 [00:00<?, ?it/s]"
      ]
     },
     "metadata": {},
     "output_type": "display_data"
    },
    {
     "data": {
      "application/vnd.jupyter.widget-view+json": {
       "model_id": "33e61df73aa8455f86df81c045aeb1dd",
       "version_major": 2,
       "version_minor": 0
      },
      "text/plain": [
       "  0%|          | 0/10 [00:00<?, ?it/s]"
      ]
     },
     "metadata": {},
     "output_type": "display_data"
    },
    {
     "data": {
      "application/vnd.jupyter.widget-view+json": {
       "model_id": "7c68a54123674900a8d74410c1945047",
       "version_major": 2,
       "version_minor": 0
      },
      "text/plain": [
       "  0%|          | 0/10 [00:00<?, ?it/s]"
      ]
     },
     "metadata": {},
     "output_type": "display_data"
    },
    {
     "data": {
      "application/vnd.jupyter.widget-view+json": {
       "model_id": "6d36d3a7584d4b1aa7b3061a920273a8",
       "version_major": 2,
       "version_minor": 0
      },
      "text/plain": [
       "  0%|          | 0/10 [00:00<?, ?it/s]"
      ]
     },
     "metadata": {},
     "output_type": "display_data"
    },
    {
     "data": {
      "application/vnd.jupyter.widget-view+json": {
       "model_id": "64e5de60c8764ed886cdde42b2f2b0c2",
       "version_major": 2,
       "version_minor": 0
      },
      "text/plain": [
       "  0%|          | 0/10 [00:00<?, ?it/s]"
      ]
     },
     "metadata": {},
     "output_type": "display_data"
    },
    {
     "data": {
      "application/vnd.jupyter.widget-view+json": {
       "model_id": "679d5e7ecbef47f481d0d08886887ca9",
       "version_major": 2,
       "version_minor": 0
      },
      "text/plain": [
       "  0%|          | 0/10 [00:00<?, ?it/s]"
      ]
     },
     "metadata": {},
     "output_type": "display_data"
    },
    {
     "data": {
      "application/vnd.jupyter.widget-view+json": {
       "model_id": "3df56f2dcb2e47b8a9e58378fcb141f9",
       "version_major": 2,
       "version_minor": 0
      },
      "text/plain": [
       "  0%|          | 0/10 [00:00<?, ?it/s]"
      ]
     },
     "metadata": {},
     "output_type": "display_data"
    },
    {
     "data": {
      "application/vnd.jupyter.widget-view+json": {
       "model_id": "9f8eed25c90e4f38b5a12591fb110d5c",
       "version_major": 2,
       "version_minor": 0
      },
      "text/plain": [
       "  0%|          | 0/10 [00:00<?, ?it/s]"
      ]
     },
     "metadata": {},
     "output_type": "display_data"
    },
    {
     "data": {
      "application/vnd.jupyter.widget-view+json": {
       "model_id": "d38b4349f652452abc98606e9fc1d971",
       "version_major": 2,
       "version_minor": 0
      },
      "text/plain": [
       "  0%|          | 0/10 [00:00<?, ?it/s]"
      ]
     },
     "metadata": {},
     "output_type": "display_data"
    },
    {
     "data": {
      "application/vnd.jupyter.widget-view+json": {
       "model_id": "9f9565acb82f4adb9dc87266e7e2c68f",
       "version_major": 2,
       "version_minor": 0
      },
      "text/plain": [
       "  0%|          | 0/10 [00:00<?, ?it/s]"
      ]
     },
     "metadata": {},
     "output_type": "display_data"
    },
    {
     "data": {
      "application/vnd.jupyter.widget-view+json": {
       "model_id": "2c7b75f75aab4b56bccff6ad84f6e41e",
       "version_major": 2,
       "version_minor": 0
      },
      "text/plain": [
       "  0%|          | 0/10 [00:00<?, ?it/s]"
      ]
     },
     "metadata": {},
     "output_type": "display_data"
    },
    {
     "data": {
      "application/vnd.jupyter.widget-view+json": {
       "model_id": "8ef57ee640c642d3bf5647135189028a",
       "version_major": 2,
       "version_minor": 0
      },
      "text/plain": [
       "  0%|          | 0/10 [00:00<?, ?it/s]"
      ]
     },
     "metadata": {},
     "output_type": "display_data"
    },
    {
     "data": {
      "application/vnd.jupyter.widget-view+json": {
       "model_id": "3b80ed01c0b347f48d973a32422bedb8",
       "version_major": 2,
       "version_minor": 0
      },
      "text/plain": [
       "  0%|          | 0/10 [00:00<?, ?it/s]"
      ]
     },
     "metadata": {},
     "output_type": "display_data"
    },
    {
     "data": {
      "application/vnd.jupyter.widget-view+json": {
       "model_id": "156a44828601443a8a3ac34a3ed99345",
       "version_major": 2,
       "version_minor": 0
      },
      "text/plain": [
       "  0%|          | 0/10 [00:00<?, ?it/s]"
      ]
     },
     "metadata": {},
     "output_type": "display_data"
    },
    {
     "data": {
      "application/vnd.jupyter.widget-view+json": {
       "model_id": "f8cfd4927bae4531b0101f0ec3acad77",
       "version_major": 2,
       "version_minor": 0
      },
      "text/plain": [
       "  0%|          | 0/10 [00:00<?, ?it/s]"
      ]
     },
     "metadata": {},
     "output_type": "display_data"
    },
    {
     "data": {
      "application/vnd.jupyter.widget-view+json": {
       "model_id": "e51a45b0e423451eb76efeecd6602a4e",
       "version_major": 2,
       "version_minor": 0
      },
      "text/plain": [
       "0it [00:00, ?it/s]"
      ]
     },
     "metadata": {},
     "output_type": "display_data"
    },
    {
     "data": {
      "application/vnd.jupyter.widget-view+json": {
       "model_id": "e218808340a14d11824e2cadd7a46ed6",
       "version_major": 2,
       "version_minor": 0
      },
      "text/plain": [
       "  0%|          | 0/10 [00:00<?, ?it/s]"
      ]
     },
     "metadata": {},
     "output_type": "display_data"
    },
    {
     "data": {
      "application/vnd.jupyter.widget-view+json": {
       "model_id": "2cd489dbd0e447ddb8a9155814ec8a7b",
       "version_major": 2,
       "version_minor": 0
      },
      "text/plain": [
       "  0%|          | 0/10 [00:00<?, ?it/s]"
      ]
     },
     "metadata": {},
     "output_type": "display_data"
    },
    {
     "data": {
      "application/vnd.jupyter.widget-view+json": {
       "model_id": "f6d5be04165445e6b92bf935839f55aa",
       "version_major": 2,
       "version_minor": 0
      },
      "text/plain": [
       "  0%|          | 0/10 [00:00<?, ?it/s]"
      ]
     },
     "metadata": {},
     "output_type": "display_data"
    },
    {
     "data": {
      "application/vnd.jupyter.widget-view+json": {
       "model_id": "c04d059412a4490987651dab4fce9873",
       "version_major": 2,
       "version_minor": 0
      },
      "text/plain": [
       "  0%|          | 0/10 [00:00<?, ?it/s]"
      ]
     },
     "metadata": {},
     "output_type": "display_data"
    },
    {
     "data": {
      "application/vnd.jupyter.widget-view+json": {
       "model_id": "c384739c809f4afca6251f7a9f4d078a",
       "version_major": 2,
       "version_minor": 0
      },
      "text/plain": [
       "0it [00:00, ?it/s]"
      ]
     },
     "metadata": {},
     "output_type": "display_data"
    },
    {
     "data": {
      "application/vnd.jupyter.widget-view+json": {
       "model_id": "5e5e6739fc984f99b0e956489414c3e8",
       "version_major": 2,
       "version_minor": 0
      },
      "text/plain": [
       "  0%|          | 0/10 [00:00<?, ?it/s]"
      ]
     },
     "metadata": {},
     "output_type": "display_data"
    },
    {
     "data": {
      "application/vnd.jupyter.widget-view+json": {
       "model_id": "043e5d63cbbb4ca29ddab44b0f4f1cd8",
       "version_major": 2,
       "version_minor": 0
      },
      "text/plain": [
       "  0%|          | 0/10 [00:00<?, ?it/s]"
      ]
     },
     "metadata": {},
     "output_type": "display_data"
    },
    {
     "data": {
      "application/vnd.jupyter.widget-view+json": {
       "model_id": "c998ce50b547406db715c00f6f81d100",
       "version_major": 2,
       "version_minor": 0
      },
      "text/plain": [
       "  0%|          | 0/10 [00:00<?, ?it/s]"
      ]
     },
     "metadata": {},
     "output_type": "display_data"
    },
    {
     "data": {
      "application/vnd.jupyter.widget-view+json": {
       "model_id": "507a7e768a2b48eaafd6bcf40c4504ee",
       "version_major": 2,
       "version_minor": 0
      },
      "text/plain": [
       "  0%|          | 0/2 [00:00<?, ?it/s]"
      ]
     },
     "metadata": {},
     "output_type": "display_data"
    },
    {
     "data": {
      "application/vnd.jupyter.widget-view+json": {
       "model_id": "9a9561ec1bbd40369118c6bb94191163",
       "version_major": 2,
       "version_minor": 0
      },
      "text/plain": [
       "  0%|          | 0/10 [00:00<?, ?it/s]"
      ]
     },
     "metadata": {},
     "output_type": "display_data"
    },
    {
     "data": {
      "application/vnd.jupyter.widget-view+json": {
       "model_id": "6e07ed14df37432686d621e217b7803c",
       "version_major": 2,
       "version_minor": 0
      },
      "text/plain": [
       "  0%|          | 0/10 [00:00<?, ?it/s]"
      ]
     },
     "metadata": {},
     "output_type": "display_data"
    },
    {
     "data": {
      "application/vnd.jupyter.widget-view+json": {
       "model_id": "83e53ad21a9d48669334d96199c172eb",
       "version_major": 2,
       "version_minor": 0
      },
      "text/plain": [
       "  0%|          | 0/9 [00:00<?, ?it/s]"
      ]
     },
     "metadata": {},
     "output_type": "display_data"
    },
    {
     "data": {
      "application/vnd.jupyter.widget-view+json": {
       "model_id": "87720cc5c01d4973886534b9054ce302",
       "version_major": 2,
       "version_minor": 0
      },
      "text/plain": [
       "  0%|          | 0/8 [00:00<?, ?it/s]"
      ]
     },
     "metadata": {},
     "output_type": "display_data"
    },
    {
     "data": {
      "application/vnd.jupyter.widget-view+json": {
       "model_id": "03b9e497c5904f58b97f98e43e034a6c",
       "version_major": 2,
       "version_minor": 0
      },
      "text/plain": [
       "  0%|          | 0/10 [00:00<?, ?it/s]"
      ]
     },
     "metadata": {},
     "output_type": "display_data"
    },
    {
     "data": {
      "application/vnd.jupyter.widget-view+json": {
       "model_id": "f366624e1d6142c2b75771a597e062e0",
       "version_major": 2,
       "version_minor": 0
      },
      "text/plain": [
       "  0%|          | 0/10 [00:00<?, ?it/s]"
      ]
     },
     "metadata": {},
     "output_type": "display_data"
    },
    {
     "data": {
      "application/vnd.jupyter.widget-view+json": {
       "model_id": "a237f902dff040ccbd09d4fa0e6bd5fc",
       "version_major": 2,
       "version_minor": 0
      },
      "text/plain": [
       "  0%|          | 0/10 [00:00<?, ?it/s]"
      ]
     },
     "metadata": {},
     "output_type": "display_data"
    },
    {
     "data": {
      "application/vnd.jupyter.widget-view+json": {
       "model_id": "c370b7f34b98435b92f85d2f6aa85277",
       "version_major": 2,
       "version_minor": 0
      },
      "text/plain": [
       "  0%|          | 0/2 [00:00<?, ?it/s]"
      ]
     },
     "metadata": {},
     "output_type": "display_data"
    },
    {
     "data": {
      "application/vnd.jupyter.widget-view+json": {
       "model_id": "285b030748244264bb0325b9fbbf22ee",
       "version_major": 2,
       "version_minor": 0
      },
      "text/plain": [
       "0it [00:00, ?it/s]"
      ]
     },
     "metadata": {},
     "output_type": "display_data"
    },
    {
     "data": {
      "application/vnd.jupyter.widget-view+json": {
       "model_id": "20d96e3a4a7642a4bd58b44fd5397273",
       "version_major": 2,
       "version_minor": 0
      },
      "text/plain": [
       "0it [00:00, ?it/s]"
      ]
     },
     "metadata": {},
     "output_type": "display_data"
    },
    {
     "ename": "NameError",
     "evalue": "name 'labels_cos' is not defined",
     "output_type": "error",
     "traceback": [
      "\u001b[1;31m---------------------------------------------------------------------------\u001b[0m",
      "\u001b[1;31mNameError\u001b[0m                                 Traceback (most recent call last)",
      "Cell \u001b[1;32mIn[754], line 7\u001b[0m\n\u001b[0;32m      5\u001b[0m label_cos \u001b[38;5;241m=\u001b[39m compute_cluster(trajec_cos, trajec_date) \n\u001b[0;32m      6\u001b[0m \u001b[38;5;28;01mwith\u001b[39;00m \u001b[38;5;28mopen\u001b[39m(\u001b[38;5;124mf\u001b[39m\u001b[38;5;124m'\u001b[39m\u001b[38;5;124mDatasets/labels_cos_dublin_\u001b[39m\u001b[38;5;132;01m{\u001b[39;00mpercentage\u001b[38;5;132;01m}\u001b[39;00m\u001b[38;5;124m.pkl\u001b[39m\u001b[38;5;124m'\u001b[39m, \u001b[38;5;124m'\u001b[39m\u001b[38;5;124mwb\u001b[39m\u001b[38;5;124m'\u001b[39m) \u001b[38;5;28;01mas\u001b[39;00m f:\n\u001b[1;32m----> 7\u001b[0m     pickle\u001b[38;5;241m.\u001b[39mdump(labels_cos, f)\n\u001b[0;32m      8\u001b[0m end_time \u001b[38;5;241m=\u001b[39m time\u001b[38;5;241m.\u001b[39mtime()\n\u001b[0;32m      9\u001b[0m time_cos \u001b[38;5;241m=\u001b[39m end_time \u001b[38;5;241m-\u001b[39m start_time\n",
      "\u001b[1;31mNameError\u001b[0m: name 'labels_cos' is not defined"
     ]
    }
   ],
   "source": [
    "label_compute = True # Put at True if you want to compute the labels\n",
    "\n",
    "if label_compute:\n",
    "    start_time = time.time()\n",
    "    label_cos = compute_cluster(trajec_cos, trajec_date) \n",
    "    with open(f'Datasets/labels_cos_dublin_{percentage}.pkl', 'wb') as f:\n",
    "        pickle.dump(labels_cos, f)\n",
    "    end_time = time.time()\n",
    "    time_cos = end_time - start_time\n",
    "else:\n",
    "    # Open labels that already exists\n",
    "    with open(f'Datasets/labels/labels_cos_dublin_{percentage}.pkl', 'rb') as f:\n",
    "        label_cos = pickle.load(f)  "
   ]
  },
  {
   "cell_type": "markdown",
   "id": "c520191c",
   "metadata": {},
   "source": [
    "# Plot clustering trajectory cos²"
   ]
  },
  {
   "cell_type": "code",
   "execution_count": 755,
   "id": "2ccccd02",
   "metadata": {},
   "outputs": [
    {
     "data": {
      "image/png": "[encoded data removed]",
      "text/plain": [
       "<Figure size 640x480 with 1 Axes>"
      ]
     },
     "metadata": {},
     "output_type": "display_data"
    },
    {
     "data": {
      "image/png": "[encoded data removed]",
      "text/plain": [
       "<Figure size 640x480 with 1 Axes>"
      ]
     },
     "metadata": {},
     "output_type": "display_data"
    },
    {
     "data": {
      "image/png": "[encoded data removed]",
      "text/plain": [
       "<Figure size 640x480 with 1 Axes>"
      ]
     },
     "metadata": {},
     "output_type": "display_data"
    }
   ],
   "source": [
    "plot_trajectory(data_visualisation, label_cos)"
   ]
  },
  {
   "cell_type": "markdown",
   "id": "264a96c4",
   "metadata": {},
   "source": [
    "# Plot clustering trajectory lev"
   ]
  },
  {
   "cell_type": "code",
   "execution_count": 756,
   "id": "59bcc0e7",
   "metadata": {},
   "outputs": [
    {
     "data": {
      "image/png": "[encoded data removed]",
      "text/plain": [
       "<Figure size 640x480 with 1 Axes>"
      ]
     },
     "metadata": {},
     "output_type": "display_data"
    },
    {
     "data": {
      "image/png": "[encoded data removed]",
      "text/plain": [
       "<Figure size 640x480 with 1 Axes>"
      ]
     },
     "metadata": {},
     "output_type": "display_data"
    },
    {
     "data": {
      "image/png": "[encoded data removed]",
      "text/plain": [
       "<Figure size 640x480 with 1 Axes>"
      ]
     },
     "metadata": {},
     "output_type": "display_data"
    }
   ],
   "source": [
    "plot_trajectory(data_visualisation, label_lev)"
   ]
  },
  {
   "cell_type": "markdown",
   "id": "3811ad7f",
   "metadata": {},
   "source": [
    "# Comparaison between clustering"
   ]
  },
  {
   "cell_type": "markdown",
   "id": "0c6666c2",
   "metadata": {},
   "source": [
    "In this section, we will compare the quality of the clustering using some metric such as the silouhette, Calinski and Davies-Bouldin score. We will compute our version of thoses metric using the matrix distance to calculate the score for the embedding methode."
   ]
  },
  {
   "cell_type": "markdown",
   "id": "71c11003",
   "metadata": {},
   "source": [
    "## Silouhette score"
   ]
  },
  {
   "cell_type": "code",
   "execution_count": 757,
   "id": "99783434",
   "metadata": {},
   "outputs": [],
   "source": [
    "def distance_matrix(A, B):\n",
    "    \"\"\"\n",
    "    Return the distance between two matrix\"\n",
    "    \"\"\"\n",
    "    return np.linalg.norm(A - B, 'fro')\n",
    "\n",
    "def count_array(array, n):\n",
    "    \"\"\"\n",
    "    Count the number of times that n is in array\n",
    "    \"\"\"\n",
    "    return list(array).count(n)\n",
    "\n",
    "\n",
    "def list_emb_to_array(row):\n",
    "    \"Reshape 3d array to 2d\"\n",
    "    array = np.array(row)\n",
    "    a,b,c = array.shape\n",
    "    array = array.reshape(b,c)\n",
    "    return array    "
   ]
  },
  {
   "cell_type": "markdown",
   "id": "da8e767a",
   "metadata": {},
   "source": [
    "We compute the silouhette methode using the algorithme we find in wikipedia using the matrix distance instead of classic distance. https://en.wikipedia.org/wiki/Silhouette_(clustering)"
   ]
  },
  {
   "cell_type": "code",
   "execution_count": 758,
   "id": "59235f9f",
   "metadata": {},
   "outputs": [],
   "source": [
    "def a_silh(i, labels, data):\n",
    "    k = labels[i]\n",
    "    num_in_clus = count_array(labels, k)\n",
    "    if num_in_clus > 1:\n",
    "        num_trajec = len(data)\n",
    "        sum_distance = 0\n",
    "        array_i = list_emb_to_array(data[i:i+1])\n",
    "        for j in range(0,num_trajec):\n",
    "            if i != j and labels[j] == k:\n",
    "                array_j = list_emb_to_array(data[j:j+1])\n",
    "                sum_distance += distance_matrix(array_i,array_j)\n",
    "        a = 1/(num_in_clus-1) * sum_distance\n",
    "    else:\n",
    "        a = 0\n",
    "    return a\n",
    "\n",
    "def b_silh(i, labels, data):\n",
    "    list_b_l = []\n",
    "    k = labels[i]\n",
    "    num_trajec = len(data)\n",
    "    array_i = list_emb_to_array(data[i:i+1])\n",
    "    for q in labels:\n",
    "        if q!=k:\n",
    "            num_in_clus_q = count_array(labels, q)\n",
    "            sum_dis = 0\n",
    "            for j in range(0,num_trajec):\n",
    "                if labels[j] == q:\n",
    "                    array_j = list_emb_to_array(data[j:j+1])\n",
    "                    sum_dis += distance_matrix(array_i, array_j)\n",
    "            b_l = 1/num_in_clus_q * sum_dis\n",
    "            list_b_l.append(b_l)\n",
    "    return min(list_b_l)"
   ]
  },
  {
   "cell_type": "code",
   "execution_count": 759,
   "id": "5df4401b",
   "metadata": {},
   "outputs": [],
   "source": [
    "def s_sil(b_sil,a_sil):\n",
    "    return (b_sil-a_sil)/max(a_sil,b_sil)"
   ]
  },
  {
   "cell_type": "code",
   "execution_count": 760,
   "id": "64313b23",
   "metadata": {},
   "outputs": [],
   "source": [
    "def S_sil(K,labels, data):\n",
    "    sum_S = 0\n",
    "    num_trajec = len(data)\n",
    "    for k in range(K):\n",
    "        num_in_clus = count_array(labels, k)\n",
    "        if num_in_clus == 0:\n",
    "            print(labels,k, K)\n",
    "        sum_silh = 0\n",
    "        for i in range(num_trajec):\n",
    "            if labels[i] == k:\n",
    "                b, a = b_silh(i, labels, data), a_silh(i, labels, data)\n",
    "                s = s_sil(b,a)\n",
    "                sum_silh += s\n",
    "        sum_S += 1/num_in_clus * sum_silh\n",
    "    S = 1/K * sum_S\n",
    "    return S"
   ]
  },
  {
   "cell_type": "code",
   "execution_count": 761,
   "id": "58cbbf39",
   "metadata": {},
   "outputs": [],
   "source": [
    "def best_k_silh(data):\n",
    "    silhouette_scores = []\n",
    "    max_clus = len(data) - 1\n",
    "    for K in range(2,max_clus):\n",
    "        model_emb = TimeSeriesKMeans(n_clusters=K, metric=\"dtw\", max_iter=10)\n",
    "        labels_emb = model_emb.fit_predict(data)\n",
    "        silh_score_perso = S_sil(K, labels_emb, data_exo)\n",
    "        silhouette_scores.append(silh_score_perso)\n",
    "    return np.argmax(silhouette_scores)"
   ]
  },
  {
   "cell_type": "markdown",
   "id": "2ddfb05a",
   "metadata": {},
   "source": [
    "## Calinski"
   ]
  },
  {
   "cell_type": "markdown",
   "id": "4e560597",
   "metadata": {},
   "source": [
    "We input the Calinski methode. https://en.wikipedia.org/wiki/Calinski%E2%80%93Harabasz_index"
   ]
  },
  {
   "cell_type": "code",
   "execution_count": 762,
   "id": "fd70b378",
   "metadata": {},
   "outputs": [],
   "source": [
    "def centroid_data_(labels, padded_trajec):\n",
    "    centroid_data = {}\n",
    "    for exo in labels:\n",
    "        centroid_data[exo] = {}\n",
    "        list_label = labels[exo]\n",
    "        trajectories = padded_trajec[exo]\n",
    "        list_trajec = list(trajectories.keys())\n",
    "        for i, k in enumerate(list_label):\n",
    "            if k not in centroid_data[exo]:\n",
    "                centroid_data[exo][k] = []\n",
    "            trajec = list_trajec[i] \n",
    "            centroid_data[exo][k].append(trajectories[trajec])\n",
    "            \n",
    "    centroid = {}\n",
    "    for exo in centroid_data:\n",
    "        centroid[exo] = {}\n",
    "        for k in centroid_data[exo]:\n",
    "            centroid[exo][k] = np.mean(centroid_data[exo][k], axis = 0)\n",
    "            \n",
    "                  \n",
    "            \n",
    "    l_centroid = {}\n",
    "    for exo in centroid_data:\n",
    "        l_centroid[exo] = []\n",
    "        for k in centroid_data[exo]:\n",
    "            l_centroid[exo].append(centroid[exo][k])\n",
    "    centroid_global = {}\n",
    "    for exo in l_centroid:\n",
    "        centroid_global[exo] = np.mean(l_centroid[exo], axis = 0)\n",
    "        \n",
    "        \n",
    "        \n",
    "    return centroid_data, centroid, centroid_global"
   ]
  },
  {
   "cell_type": "code",
   "execution_count": 763,
   "id": "5ba3e5f2",
   "metadata": {},
   "outputs": [],
   "source": [
    "def BCSS_(dict_label_emb,dict_padded_trajec, dict_centroid, centroid_global):\n",
    "    BCSS_exo = {}\n",
    "    for exo in dict_label_emb:\n",
    "        BCSS_exo[exo] = 0\n",
    "        K = len(set(dict_label_emb[exo]))\n",
    "        ni = len(dict_padded_trajec[exo])\n",
    "        centroid_globale = centroid_global[exo]\n",
    "        for label in set(dict_label_emb[exo]):\n",
    "            centroid = dict_centroid[exo][label]\n",
    "            dis_centr = distance_matrix(centroid,centroid_globale) ** 2\n",
    "            BCSS_exo[exo] += ni * dis_centr\n",
    "    return BCSS_exo"
   ]
  },
  {
   "cell_type": "code",
   "execution_count": 764,
   "id": "ad7144a7",
   "metadata": {},
   "outputs": [],
   "source": [
    "def WCSS_(dict_label_emb, dict_centroid_data, centroids):\n",
    "    WCSS_exo = {}\n",
    "    for exo in dict_label_emb:\n",
    "        WCSS_exo[exo] = 0\n",
    "        for label in set(dict_label_emb[exo]):\n",
    "            centroid = centroids[exo][label]\n",
    "            X = dict_centroid_data[exo][label]\n",
    "            for x in X:\n",
    "                dis_centr = distance_matrix(centroid,x) ** 2\n",
    "                WCSS_exo[exo] += dis_centr\n",
    "    return WCSS_exo"
   ]
  },
  {
   "cell_type": "code",
   "execution_count": 765,
   "id": "9fb66857",
   "metadata": {},
   "outputs": [],
   "source": [
    "def CH_(BCSS, WCSS, dict_padded_trajec, dict_label_emb):\n",
    "    CH = {}\n",
    "    for exo in BCSS:\n",
    "        BCSS_exo = BCSS[exo]\n",
    "        WCSS_exo = WCSS[exo]\n",
    "        k = len(set(dict_label_emb[exo]))\n",
    "        n = len(dict_padded_trajec[exo])\n",
    "        numerator = BCSS_exo/(k-1)\n",
    "        denominator = WCSS_exo/(n-k)\n",
    "        if n-k <0:\n",
    "            print(\"yes\")\n",
    "        CH[exo] = numerator/denominator\n",
    "    return CH"
   ]
  },
  {
   "cell_type": "code",
   "execution_count": 766,
   "id": "bd82e910",
   "metadata": {},
   "outputs": [],
   "source": [
    "trajec_emb, trajec_emb_date = trajectory_construction_embedding(dublin_data_sampled, embedding_data_sampled)\n",
    "diff_date = diff_date_(trajec_emb_date)\n",
    "repartition_date = repartition_date_(diff_date)\n",
    "padded_trajectory = padd_trajectories(diff_date, repartition_date, trajec_emb)"
   ]
  },
  {
   "cell_type": "code",
   "execution_count": 767,
   "id": "d5bdb835",
   "metadata": {},
   "outputs": [],
   "source": [
    "centroid_data, centroid, centroid_global = centroid_data_(labels_emb, padded_trajectory)"
   ]
  },
  {
   "cell_type": "code",
   "execution_count": 768,
   "id": "73ea91a4",
   "metadata": {},
   "outputs": [],
   "source": [
    "BCSS = BCSS_(labels_emb, padded_trajectory, centroid, centroid_global)\n",
    "WCSS =  WCSS_(labels_emb, centroid_data, centroid)\n",
    "CH = CH_(BCSS, WCSS, padded_trajectory, labels_emb)"
   ]
  },
  {
   "cell_type": "code",
   "execution_count": 769,
   "id": "c5e02821",
   "metadata": {},
   "outputs": [
    {
     "data": {
      "application/vnd.jupyter.widget-view+json": {
       "model_id": "7b85416720244ac0ac24bd05725d6773",
       "version_major": 2,
       "version_minor": 0
      },
      "text/plain": [
       "  0%|          | 0/88 [00:00<?, ?it/s]"
      ]
     },
     "metadata": {},
     "output_type": "display_data"
    }
   ],
   "source": [
    "# For embedding\n",
    "score_emb = {}\n",
    "for exo in tqdm(labels_emb):\n",
    "    X = np.array(list(padded_trajectory[exo].values()))\n",
    "    y = labels_emb[exo]\n",
    "    K = len(set(y))\n",
    "    silhouette_avg = S_sil(K,y,X)\n",
    "    score_emb[exo] = silhouette_avg\n"
   ]
  },
  {
   "cell_type": "markdown",
   "id": "fc2361c4",
   "metadata": {},
   "source": [
    "# Davies-Bouldin"
   ]
  },
  {
   "cell_type": "markdown",
   "id": "f9207367",
   "metadata": {},
   "source": [
    "Same way, we compute the DB methode. https://en.wikipedia.org/wiki/Davies%E2%80%93Bouldin_index"
   ]
  },
  {
   "cell_type": "code",
   "execution_count": 783,
   "id": "bed56156",
   "metadata": {},
   "outputs": [],
   "source": [
    "def Si_(dict_padded_trajec, dict_centroid, dict_label_emb):\n",
    "    Si_dict = {}\n",
    "    for exo in dict_label_emb:\n",
    "        labels = dict_label_emb[exo]\n",
    "        centroids = dict_centroid[exo]\n",
    "        trajecs = dict_padded_trajec[exo]\n",
    "        list_stu = list(trajecs.keys())\n",
    "        Si_dict[exo] = {}\n",
    "        for i, label in enumerate(labels):\n",
    "            if label not in Si_dict[exo]:\n",
    "                Si_dict[exo][label] = 0\n",
    "            student = list_stu[i]\n",
    "            Xj = trajecs[student]\n",
    "            centroid = centroids[label]\n",
    "            dis = distance_matrix(Xj,centroid)\n",
    "            Si_dict[exo][label] += dis\n",
    "            \n",
    "    for exo in Si_dict:\n",
    "        for label in Si_dict[exo]:\n",
    "            T_i = count_array(dict_label_emb[exo],label)\n",
    "            Si_dict[exo][label] /= T_i\n",
    "    return Si_dict"
   ]
  },
  {
   "cell_type": "code",
   "execution_count": 784,
   "id": "3fd6da11",
   "metadata": {},
   "outputs": [],
   "source": [
    "def M_(dict_centroid):\n",
    "    M_dict = {}\n",
    "    for exo in dict_centroid:\n",
    "        M_dict[exo] = {}\n",
    "        list_label = list(dict_centroid[exo].keys())\n",
    "        for label_i in list_label:\n",
    "            M_dict[exo][label_i] = {}\n",
    "            centroid_i = dict_centroid[exo][label_i]\n",
    "            for label_j in list_label:\n",
    "                if label_i != label_j:\n",
    "                    centroid_j = dict_centroid[exo][label_j]\n",
    "                    dis = distance_matrix(centroid_i, centroid_j)\n",
    "                    M_dict[exo][label_i][label_j] = dis\n",
    "    return M_dict"
   ]
  },
  {
   "cell_type": "code",
   "execution_count": 785,
   "id": "80c8069c",
   "metadata": {},
   "outputs": [],
   "source": [
    "def R_(M,S):\n",
    "    R_dict = {}\n",
    "    for exo in S:\n",
    "        R_dict[exo] = {}\n",
    "        for label_i in S[exo]:\n",
    "            Si = S[exo][label_i]\n",
    "            R_dict[exo][label_i] = []\n",
    "            for label_j in S[exo]:\n",
    "                Sj = S[exo][label_j]\n",
    "                if label_i != label_j:\n",
    "                    Mij = M[exo][label_i][label_j]\n",
    "                    Rij = (Si+Sj)/Mij\n",
    "                    R_dict[exo][label_i].append(Rij)\n",
    "    return R_dict"
   ]
  },
  {
   "cell_type": "code",
   "execution_count": 786,
   "id": "beb45e11",
   "metadata": {},
   "outputs": [],
   "source": [
    "def D_(R):\n",
    "    D_dict = {}\n",
    "    for exo in R:\n",
    "        D_dict[exo] = {}\n",
    "        for label in R[exo]:\n",
    "            D_i = max(R[exo][label])\n",
    "            D_dict[exo][label] = D_i\n",
    "    return D_dict"
   ]
  },
  {
   "cell_type": "code",
   "execution_count": 787,
   "id": "135ea856",
   "metadata": {},
   "outputs": [],
   "source": [
    "def DB_(D):\n",
    "    DB_dict = {}\n",
    "    for exo in D:\n",
    "        DB_dict[exo] = 0\n",
    "        for label in D[exo]:\n",
    "            DB_dict[exo]+= D[exo][label]\n",
    "        DB_dict[exo]/= len(D[exo])\n",
    "    return DB_dict"
   ]
  },
  {
   "cell_type": "code",
   "execution_count": 788,
   "id": "722c8b0d",
   "metadata": {},
   "outputs": [],
   "source": [
    "M, S =  M_(centroid), Si_(padded_trajectory, centroid, labels_emb)\n",
    "R = R_(M,S)\n",
    "D = D_(R)\n",
    "DB = DB_(D)"
   ]
  },
  {
   "cell_type": "markdown",
   "id": "fce8484b",
   "metadata": {},
   "source": [
    "## Score for the embedding methode"
   ]
  },
  {
   "cell_type": "code",
   "execution_count": 789,
   "id": "c9f42995",
   "metadata": {},
   "outputs": [],
   "source": [
    "embedding_methode = {\"Silouhette_score\" : sum(score_emb.values()),\"Davies_bouldin\" : sum(DB.values()), \"Calisnki\" : sum(CH.values()) }\n"
   ]
  },
  {
   "cell_type": "markdown",
   "id": "2528fbb6",
   "metadata": {},
   "source": [
    "## Score of cos² methode"
   ]
  },
  {
   "cell_type": "code",
   "execution_count": 790,
   "id": "ab9c1192",
   "metadata": {},
   "outputs": [],
   "source": [
    "# Get padded_trajectory for cos² methode\n",
    "diff_date = diff_date_(trajec_date)\n",
    "repartition_date = repartition_date_(diff_date)\n",
    "padded_trajectory_cos2 = padd_trajectories(diff_date, repartition_date, trajec_cos)"
   ]
  },
  {
   "cell_type": "code",
   "execution_count": 791,
   "id": "8c19a2ed",
   "metadata": {},
   "outputs": [
    {
     "data": {
      "application/vnd.jupyter.widget-view+json": {
       "model_id": "a1a523707b5241e6b4bbca5619ca124a",
       "version_major": 2,
       "version_minor": 0
      },
      "text/plain": [
       "  0%|          | 0/88 [00:00<?, ?it/s]"
      ]
     },
     "metadata": {},
     "output_type": "display_data"
    }
   ],
   "source": [
    "cos_methode = {\"Silouhette_score\" : 0, 'Davies_bouldin' : 0, \"Calisnki\" : 0}\n",
    "for exo in tqdm(label_cos):\n",
    "    X = np.array(list(padded_trajectory_cos2[exo].values()))\n",
    "    y = label_cos[exo]\n",
    "\n",
    "    silhouette_avg = silhouette_score(X, y)\n",
    "    calinski_harabasz_avg = calinski_harabasz_score(X, y)\n",
    "    davies_bouldin_avg = davies_bouldin_score(X, y)\n",
    "    \n",
    "    \n",
    "    cos_methode[\"Silouhette_score\"] += silhouette_avg\n",
    "    cos_methode[\"Davies_bouldin\"] += davies_bouldin_avg\n",
    "    cos_methode[\"Calisnki\"] += calinski_harabasz_avg"
   ]
  },
  {
   "cell_type": "markdown",
   "id": "aab413e8",
   "metadata": {},
   "source": [
    "## Score of lev methode"
   ]
  },
  {
   "cell_type": "code",
   "execution_count": 792,
   "id": "ccfdb20a",
   "metadata": {},
   "outputs": [],
   "source": [
    "# Get padded_trajectory for cos² methode\n",
    "diff_date = diff_date_(trajec_date)\n",
    "repartition_date = repartition_date_(diff_date)\n",
    "padded_trajectory_lev = padd_trajectories(diff_date, repartition_date, trajec_lev)"
   ]
  },
  {
   "cell_type": "code",
   "execution_count": 793,
   "id": "69f60167",
   "metadata": {},
   "outputs": [
    {
     "data": {
      "application/vnd.jupyter.widget-view+json": {
       "model_id": "4d5c1cddc92e4f69a1a58492167d45dc",
       "version_major": 2,
       "version_minor": 0
      },
      "text/plain": [
       "  0%|          | 0/88 [00:00<?, ?it/s]"
      ]
     },
     "metadata": {},
     "output_type": "display_data"
    }
   ],
   "source": [
    "lev_methode = {\"Silouhette_score\" : 0, 'Davies_bouldin' : 0, \"Calisnki\" : 0}\n",
    "for exo in tqdm(label_lev):\n",
    "    X = np.array(list(padded_trajectory_lev[exo].values()))\n",
    "    y = label_lev[exo]\n",
    "\n",
    "    silhouette_avg = silhouette_score(X, y)\n",
    "    calinski_harabasz_avg = calinski_harabasz_score(X, y)\n",
    "    davies_bouldin_avg = davies_bouldin_score(X, y)\n",
    "    \n",
    "    \n",
    "    lev_methode[\"Silouhette_score\"] += silhouette_avg\n",
    "    lev_methode[\"Davies_bouldin\"] += davies_bouldin_avg\n",
    "    lev_methode[\"Calisnki\"] += calinski_harabasz_avg"
   ]
  },
  {
   "cell_type": "code",
   "execution_count": 794,
   "id": "ca968e0b",
   "metadata": {
    "jupyter": {
     "source_hidden": true
    }
   },
   "outputs": [],
   "source": [
    "# m for min and M for max\n",
    "m, M = 0,0\n",
    "for exercise in padded_trajectory:\n",
    "    for student in padded_trajectory[exercise]:\n",
    "        for i in range(len(padded_trajectory[exercise][student])):\n",
    "            m = min(m,min(padded_trajectory[exercise][student][i]))\n",
    "            M = max(M,max(padded_trajectory[exercise][student][i]))"
   ]
  },
  {
   "cell_type": "code",
   "execution_count": 795,
   "id": "46107929",
   "metadata": {},
   "outputs": [
    {
     "data": {
      "text/html": [
       "<div>\n",
       "<style scoped>\n",
       "    .dataframe tbody tr th:only-of-type {\n",
       "        vertical-align: middle;\n",
       "    }\n",
       "\n",
       "    .dataframe tbody tr th {\n",
       "        vertical-align: top;\n",
       "    }\n",
       "\n",
       "    .dataframe thead th {\n",
       "        text-align: right;\n",
       "    }\n",
       "</style>\n",
       "<table border=\"1\" class=\"dataframe\">\n",
       "  <thead>\n",
       "    <tr style=\"text-align: right;\">\n",
       "      <th></th>\n",
       "      <th>Silouhette_score</th>\n",
       "      <th>Davies_bouldin</th>\n",
       "      <th>Calisnki</th>\n",
       "    </tr>\n",
       "  </thead>\n",
       "  <tbody>\n",
       "    <tr>\n",
       "      <th>embbeding</th>\n",
       "      <td>57.026649</td>\n",
       "      <td>57.084319</td>\n",
       "      <td>128264.667100</td>\n",
       "    </tr>\n",
       "    <tr>\n",
       "      <th>levenshtein</th>\n",
       "      <td>61.154457</td>\n",
       "      <td>32.405640</td>\n",
       "      <td>28129.684990</td>\n",
       "    </tr>\n",
       "    <tr>\n",
       "      <th>cos²</th>\n",
       "      <td>64.094358</td>\n",
       "      <td>32.730093</td>\n",
       "      <td>23654.338752</td>\n",
       "    </tr>\n",
       "  </tbody>\n",
       "</table>\n",
       "</div>"
      ],
      "text/plain": [
       "             Silouhette_score  Davies_bouldin       Calisnki\n",
       "embbeding           57.026649       57.084319  128264.667100\n",
       "levenshtein         61.154457       32.405640   28129.684990\n",
       "cos²                64.094358       32.730093   23654.338752"
      ]
     },
     "execution_count": 795,
     "metadata": {},
     "output_type": "execute_result"
    }
   ],
   "source": [
    "df_score = pd.DataFrame([embedding_methode, lev_methode, cos_methode], index=['embbeding','levenshtein', 'cos²'])\n",
    "df_score"
   ]
  }
 ],
 "metadata": {
  "kernelspec": {
   "display_name": "Python 3 (ipykernel)",
   "language": "python",
   "name": "python3"
  },
  "language_info": {
   "codemirror_mode": {
    "name": "ipython",
    "version": 3
   },
   "file_extension": ".py",
   "mimetype": "text/x-python",
   "name": "python",
   "nbconvert_exporter": "python",
   "pygments_lexer": "ipython3",
   "version": "3.11.5"
  }
 },
 "nbformat": 4,
 "nbformat_minor": 5
}
